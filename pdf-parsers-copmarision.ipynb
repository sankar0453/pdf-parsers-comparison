{
  "nbformat": 4,
  "nbformat_minor": 0,
  "metadata": {
    "colab": {
      "provenance": []
    },
    "kernelspec": {
      "name": "python3",
      "display_name": "Python 3"
    },
    "language_info": {
      "name": "python"
    }
  },
  "cells": [
    {
      "cell_type": "markdown",
      "source": [
        "## pypdf"
      ],
      "metadata": {
        "id": "Jl077nbLYMZp"
      }
    },
    {
      "cell_type": "code",
      "execution_count": 1,
      "metadata": {
        "colab": {
          "base_uri": "https://localhost:8080/"
        },
        "id": "kwOvxIK1WezK",
        "outputId": "d57a1937-1cd3-4f0f-82a2-1f2966b11d05"
      },
      "outputs": [
        {
          "output_type": "stream",
          "name": "stdout",
          "text": [
            "Collecting pypdf\n",
            "  Downloading pypdf-5.1.0-py3-none-any.whl.metadata (7.2 kB)\n",
            "Requirement already satisfied: typing_extensions>=4.0 in /usr/local/lib/python3.10/dist-packages (from pypdf) (4.12.2)\n",
            "Downloading pypdf-5.1.0-py3-none-any.whl (297 kB)\n",
            "\u001b[2K   \u001b[90m━━━━━━━━━━━━━━━━━━━━━━━━━━━━━━━━━━━━━━━━\u001b[0m \u001b[32m298.0/298.0 kB\u001b[0m \u001b[31m3.0 MB/s\u001b[0m eta \u001b[36m0:00:00\u001b[0m\n",
            "\u001b[?25hInstalling collected packages: pypdf\n",
            "Successfully installed pypdf-5.1.0\n"
          ]
        }
      ],
      "source": [
        "!pip install pypdf"
      ]
    },
    {
      "cell_type": "code",
      "source": [
        "from pypdf import PdfReader\n",
        "\n",
        "reader = PdfReader(\"/content/asco-abstract.pdf\")\n",
        "pages = [page.extract_text() for page in reader.pages]\n",
        "pypdf_text = \"\\n\".join(pages)\n",
        "pages[0]"
      ],
      "metadata": {
        "colab": {
          "base_uri": "https://localhost:8080/",
          "height": 469
        },
        "id": "8AMON8TCWnYU",
        "outputId": "a19cd2df-42c4-4465-de52-289878266b27"
      },
      "execution_count": 3,
      "outputs": [
        {
          "output_type": "execute_result",
          "data": {
            "text/plain": [
              "'4566 Poster Session\\nAvelumab first-line maintenance (1LM) for advanced urothelial carcinoma (aUC):\\nLong-term outcomes from JAVELIN Bladder 100 in patients (pts) with low tumor\\nburden.\\nJoaquim Bellmunt, Thomas Powles, Se Hoon Park, Eric Voog, Bego~na P´erez Valderrama, Howard Gurney, Anders Ull´en, Yohann Loriot, Srikala S. Sridhar, Norihiko Tsuchiya,\\nCora N. Sternberg, Jeanny B. Aragon-Ching, Daniel P. Petrylak, Miguel A. Climent Duran, Karin Tyroller, Jason Hoffman, Natalia Jacob, Petros Grivas, Shilpa Gupta; Beth\\nIsrael Deaconess Medical Center; Harvard Medical School, Boston, MA; Barts Cancer Institute, Experimental Cancer Medicine Centre, Queen Mary University of London, St\\nBartholomew’s Hospital, London, United Kingdom; Samsung Medical Center, Sungkyunkwan University School of Medicine, Seoul, South Korea; Clinique Victor Hugo,\\nCentre Jean Bernard, Le Mans, France; Hospital Universitario Virgen del Roc´ıo, Seville, Spain; Department of Clinical Medicine, Macquarie University, Westmead, Australia;\\nKarolinska University Hospital, Solna, Sweden; Gustave Roussy, INSERMU981, Universit´e Paris-Saclay, Villejuif, France; Princess Margaret Cancer Centre, University Health\\nNetwork, Toronto, ON, Canada; Yamagata University Faculty of Medicine, Yamagata, Japan; Englander Institute for Precision Medicine, Meyer CancerCenter, New York, NY;\\nInova Schar Cancer Institute, Fairfax, VA; Yale Cancer Center, New Haven, CT; Instituto Valenciano de Oncolog´ıa, Valencia, Spain; EMD Serono, Billerica, MA; The Healthcare\\nBusiness of Merck KGaA, Darmstadt, Germany; University of Washington, Fred Hutchinson Cancer Center, Seattle, WA; Taussig Cancer Institute, Cleveland Clinic,\\nCleveland, OH\\nBackground: In the JAVELIN Bladder 100 phase 3 trial, avelumab 1LM + best supportive care\\n(BSC) significantly prolonged overall survival (OS) and progression-free survival (PFS) vs BSC\\nalone in pts with aUC that had not progressed with 1L platinum-based chemotherapy (PBC).\\nResults led to the incorporation of avelumab 1LM into international guidelines. Prior analyses\\nhave shown that low tumor burden (eg, nonvisceral metastases or lymph node [LN]-only\\ndisease) is associated with better outcomes in pts with aUC receiving immune checkpoint\\ninhibitors. We report post hoc analyses of efficacy and safety in subsets of pts with low tumor\\nburden from JAVELIN Bladder 100.Methods: Eligible pts with unresectable locally advanced\\n(LA) or metastatic UC without progression after 1L PBC were randomized 1:1 to receive avelumab\\n+ BSC (n=350) or BSC alone (n=350). The primary endpoint was OS measured from random-\\nization; secondary endpoints included PFS and safety. In this post hoc analysis, pts with\\nnonvisceral metastases included those with LA disease or only nonvisceral disease, including\\nbone metastasis, at randomization.Results: In the avelumab + BSC and BSC alone arms, 159 and\\n159 pts had nonvisceral metastases and 51 and 51 pts had LN-only disease, of whom 42 and 35\\npts had LN-only disease in the pelvic/retroperitoneal area. At the efficacy data cutoff (June 4,\\n2021), median follow-up was$38 mo in both arms ( $2 y in all pts). In all subgroups, OS and PFS\\nwere prolonged with avelumab + BSC vs BSC alone (Table). Incidence of treatment-related\\nadverse events (TRAEs) with avelumab were similar across subgroups. In the avelumab + BSC\\nand BSC alone arms, subsequent anticancer drug treatment was received by 90 (56.6%) vs 119\\npts (74.8%) with nonvisceral metastases, 27 (52.9%) vs 39 pts (76.5%) with LN-only disease,\\nand 22 (52.4%) vs 27 pts (77.1%) with pelvic/retroperitoneal LN-only disease.Conclusions:\\nExploratory analyses suggest that avelumab 1LM has pronounced efficacy and manageable\\ntoxicity in pts with aUC who have low tumor burden, supporting its use as a standard of care in\\nthis setting. Clinical trial information: NCT02603432. Research Sponsor: Pfizer; the healthcare\\nbusiness of Merck KGaA, Darmstadt, Germany (CrossRef Funder ID: 10.13039/100009945).\\nNonvisceral Metastases LN-Only Disease\\nPelvic/Retroperitoneal\\nLN-Only Disease\\nAvelumab +\\nBSC\\n(n=159)\\nBSC\\n(n=159)\\nAvelumab\\n+\\nBSC (n=51)\\nBSC\\n(n=51)\\nAvelumab\\n+\\nBSC (n=42)\\nBSC\\n(n=35)\\nMedian OS,* mo (95% CI) 31.4\\n(26.1-36.8)\\n17.1\\n(13.7-21.3)\\n31.9\\n(26.1-44.5)\\n22.7\\n(16.5-NE)\\n31.2\\n(23.8-44.5)\\n20.2\\n(13.7-NE)\\nStratified HR for OS (95% CI) 0.60 (0.45-0.79) 0.86 (0.51-1.47) 0.72 (0.39-1.31)\\nMedian PFS by investigator,*\\nmo (95% CI)\\n9.0\\n(5.7-12.6)\\n3.3\\n(2.0-3.7)\\n8.7\\n(5.4-24.7)\\n3.7\\n(2.0-6.0)\\n7.5\\n(4.2-12.0)\\n3.7\\n(1.9-5.7)\\nStratified HR for PFS (95% CI) 0.45 (0.35-0.59) 0.51 (0.31-0.84) 0.44 (0.24-0.79)\\nTRAEs, n (%)†\\nAny grade\\nGrade ‡3\\n122 (77.2)\\n30 (19.0)\\n2 (1.3)\\n0\\n44 (88.0)\\n8 (16.0)\\n0\\n0\\n36 (87.8)\\n6 (14.6)\\n0\\n0\\nNE, not estimable. *Measured from randomization.†Treated pts; data cutoff: April 6, 2023.\\nGENITOURINARY CANCER— KIDNEY AND BLADDER'"
            ],
            "application/vnd.google.colaboratory.intrinsic+json": {
              "type": "string"
            }
          },
          "metadata": {},
          "execution_count": 3
        }
      ]
    },
    {
      "cell_type": "code",
      "source": [
        "pypdf_text"
      ],
      "metadata": {
        "colab": {
          "base_uri": "https://localhost:8080/",
          "height": 469
        },
        "id": "bPATrvd3Wyjt",
        "outputId": "1eba43b6-26b9-4a24-a748-b3e3ef7d8d3d"
      },
      "execution_count": 4,
      "outputs": [
        {
          "output_type": "execute_result",
          "data": {
            "text/plain": [
              "'4566 Poster Session\\nAvelumab first-line maintenance (1LM) for advanced urothelial carcinoma (aUC):\\nLong-term outcomes from JAVELIN Bladder 100 in patients (pts) with low tumor\\nburden.\\nJoaquim Bellmunt, Thomas Powles, Se Hoon Park, Eric Voog, Bego~na P´erez Valderrama, Howard Gurney, Anders Ull´en, Yohann Loriot, Srikala S. Sridhar, Norihiko Tsuchiya,\\nCora N. Sternberg, Jeanny B. Aragon-Ching, Daniel P. Petrylak, Miguel A. Climent Duran, Karin Tyroller, Jason Hoffman, Natalia Jacob, Petros Grivas, Shilpa Gupta; Beth\\nIsrael Deaconess Medical Center; Harvard Medical School, Boston, MA; Barts Cancer Institute, Experimental Cancer Medicine Centre, Queen Mary University of London, St\\nBartholomew’s Hospital, London, United Kingdom; Samsung Medical Center, Sungkyunkwan University School of Medicine, Seoul, South Korea; Clinique Victor Hugo,\\nCentre Jean Bernard, Le Mans, France; Hospital Universitario Virgen del Roc´ıo, Seville, Spain; Department of Clinical Medicine, Macquarie University, Westmead, Australia;\\nKarolinska University Hospital, Solna, Sweden; Gustave Roussy, INSERMU981, Universit´e Paris-Saclay, Villejuif, France; Princess Margaret Cancer Centre, University Health\\nNetwork, Toronto, ON, Canada; Yamagata University Faculty of Medicine, Yamagata, Japan; Englander Institute for Precision Medicine, Meyer CancerCenter, New York, NY;\\nInova Schar Cancer Institute, Fairfax, VA; Yale Cancer Center, New Haven, CT; Instituto Valenciano de Oncolog´ıa, Valencia, Spain; EMD Serono, Billerica, MA; The Healthcare\\nBusiness of Merck KGaA, Darmstadt, Germany; University of Washington, Fred Hutchinson Cancer Center, Seattle, WA; Taussig Cancer Institute, Cleveland Clinic,\\nCleveland, OH\\nBackground: In the JAVELIN Bladder 100 phase 3 trial, avelumab 1LM + best supportive care\\n(BSC) significantly prolonged overall survival (OS) and progression-free survival (PFS) vs BSC\\nalone in pts with aUC that had not progressed with 1L platinum-based chemotherapy (PBC).\\nResults led to the incorporation of avelumab 1LM into international guidelines. Prior analyses\\nhave shown that low tumor burden (eg, nonvisceral metastases or lymph node [LN]-only\\ndisease) is associated with better outcomes in pts with aUC receiving immune checkpoint\\ninhibitors. We report post hoc analyses of efficacy and safety in subsets of pts with low tumor\\nburden from JAVELIN Bladder 100.Methods: Eligible pts with unresectable locally advanced\\n(LA) or metastatic UC without progression after 1L PBC were randomized 1:1 to receive avelumab\\n+ BSC (n=350) or BSC alone (n=350). The primary endpoint was OS measured from random-\\nization; secondary endpoints included PFS and safety. In this post hoc analysis, pts with\\nnonvisceral metastases included those with LA disease or only nonvisceral disease, including\\nbone metastasis, at randomization.Results: In the avelumab + BSC and BSC alone arms, 159 and\\n159 pts had nonvisceral metastases and 51 and 51 pts had LN-only disease, of whom 42 and 35\\npts had LN-only disease in the pelvic/retroperitoneal area. At the efficacy data cutoff (June 4,\\n2021), median follow-up was$38 mo in both arms ( $2 y in all pts). In all subgroups, OS and PFS\\nwere prolonged with avelumab + BSC vs BSC alone (Table). Incidence of treatment-related\\nadverse events (TRAEs) with avelumab were similar across subgroups. In the avelumab + BSC\\nand BSC alone arms, subsequent anticancer drug treatment was received by 90 (56.6%) vs 119\\npts (74.8%) with nonvisceral metastases, 27 (52.9%) vs 39 pts (76.5%) with LN-only disease,\\nand 22 (52.4%) vs 27 pts (77.1%) with pelvic/retroperitoneal LN-only disease.Conclusions:\\nExploratory analyses suggest that avelumab 1LM has pronounced efficacy and manageable\\ntoxicity in pts with aUC who have low tumor burden, supporting its use as a standard of care in\\nthis setting. Clinical trial information: NCT02603432. Research Sponsor: Pfizer; the healthcare\\nbusiness of Merck KGaA, Darmstadt, Germany (CrossRef Funder ID: 10.13039/100009945).\\nNonvisceral Metastases LN-Only Disease\\nPelvic/Retroperitoneal\\nLN-Only Disease\\nAvelumab +\\nBSC\\n(n=159)\\nBSC\\n(n=159)\\nAvelumab\\n+\\nBSC (n=51)\\nBSC\\n(n=51)\\nAvelumab\\n+\\nBSC (n=42)\\nBSC\\n(n=35)\\nMedian OS,* mo (95% CI) 31.4\\n(26.1-36.8)\\n17.1\\n(13.7-21.3)\\n31.9\\n(26.1-44.5)\\n22.7\\n(16.5-NE)\\n31.2\\n(23.8-44.5)\\n20.2\\n(13.7-NE)\\nStratified HR for OS (95% CI) 0.60 (0.45-0.79) 0.86 (0.51-1.47) 0.72 (0.39-1.31)\\nMedian PFS by investigator,*\\nmo (95% CI)\\n9.0\\n(5.7-12.6)\\n3.3\\n(2.0-3.7)\\n8.7\\n(5.4-24.7)\\n3.7\\n(2.0-6.0)\\n7.5\\n(4.2-12.0)\\n3.7\\n(1.9-5.7)\\nStratified HR for PFS (95% CI) 0.45 (0.35-0.59) 0.51 (0.31-0.84) 0.44 (0.24-0.79)\\nTRAEs, n (%)†\\nAny grade\\nGrade ‡3\\n122 (77.2)\\n30 (19.0)\\n2 (1.3)\\n0\\n44 (88.0)\\n8 (16.0)\\n0\\n0\\n36 (87.8)\\n6 (14.6)\\n0\\n0\\nNE, not estimable. *Measured from randomization.†Treated pts; data cutoff: April 6, 2023.\\nGENITOURINARY CANCER— KIDNEY AND BLADDER'"
            ],
            "application/vnd.google.colaboratory.intrinsic+json": {
              "type": "string"
            }
          },
          "metadata": {},
          "execution_count": 4
        }
      ]
    },
    {
      "cell_type": "markdown",
      "source": [
        "## Problems:\n",
        "1.   Heading are as it is\n",
        "1.   Text Highlight like bold or italic lost\n",
        "2.   Page unable to distinguish\n",
        "3.   Tables are not properly extracted\n",
        "\n",
        "\n",
        "  "
      ],
      "metadata": {
        "id": "S5US9lolXQLj"
      }
    },
    {
      "cell_type": "markdown",
      "source": [
        "## Unstructured"
      ],
      "metadata": {
        "id": "l0UJU53rYJT1"
      }
    },
    {
      "cell_type": "code",
      "source": [
        "\n",
        "!pip install unstructured[pdf]==0.16.5"
      ],
      "metadata": {
        "colab": {
          "base_uri": "https://localhost:8080/"
        },
        "collapsed": true,
        "id": "mdVcDbcSXv-t",
        "outputId": "d2578d58-1820-4cda-f3df-1e5ec2513772"
      },
      "execution_count": 1,
      "outputs": [
        {
          "output_type": "stream",
          "name": "stdout",
          "text": [
            "Requirement already satisfied: unstructured==0.16.5 in /usr/local/lib/python3.10/dist-packages (from unstructured[pdf]==0.16.5) (0.16.5)\n",
            "Requirement already satisfied: chardet in /usr/local/lib/python3.10/dist-packages (from unstructured==0.16.5->unstructured[pdf]==0.16.5) (5.2.0)\n",
            "Requirement already satisfied: filetype in /usr/local/lib/python3.10/dist-packages (from unstructured==0.16.5->unstructured[pdf]==0.16.5) (1.2.0)\n",
            "Requirement already satisfied: python-magic in /usr/local/lib/python3.10/dist-packages (from unstructured==0.16.5->unstructured[pdf]==0.16.5) (0.4.27)\n",
            "Requirement already satisfied: lxml in /usr/local/lib/python3.10/dist-packages (from unstructured==0.16.5->unstructured[pdf]==0.16.5) (5.3.0)\n",
            "Requirement already satisfied: nltk in /usr/local/lib/python3.10/dist-packages (from unstructured==0.16.5->unstructured[pdf]==0.16.5) (3.9.1)\n",
            "Requirement already satisfied: requests in /usr/local/lib/python3.10/dist-packages (from unstructured==0.16.5->unstructured[pdf]==0.16.5) (2.32.3)\n",
            "Requirement already satisfied: beautifulsoup4 in /usr/local/lib/python3.10/dist-packages (from unstructured==0.16.5->unstructured[pdf]==0.16.5) (4.12.3)\n",
            "Requirement already satisfied: emoji in /usr/local/lib/python3.10/dist-packages (from unstructured==0.16.5->unstructured[pdf]==0.16.5) (2.14.0)\n",
            "Requirement already satisfied: dataclasses-json in /usr/local/lib/python3.10/dist-packages (from unstructured==0.16.5->unstructured[pdf]==0.16.5) (0.6.7)\n",
            "Requirement already satisfied: python-iso639 in /usr/local/lib/python3.10/dist-packages (from unstructured==0.16.5->unstructured[pdf]==0.16.5) (2024.10.22)\n",
            "Requirement already satisfied: langdetect in /usr/local/lib/python3.10/dist-packages (from unstructured==0.16.5->unstructured[pdf]==0.16.5) (1.0.9)\n",
            "Requirement already satisfied: numpy<2 in /usr/local/lib/python3.10/dist-packages (from unstructured==0.16.5->unstructured[pdf]==0.16.5) (1.26.4)\n",
            "Requirement already satisfied: rapidfuzz in /usr/local/lib/python3.10/dist-packages (from unstructured==0.16.5->unstructured[pdf]==0.16.5) (3.10.1)\n",
            "Requirement already satisfied: backoff in /usr/local/lib/python3.10/dist-packages (from unstructured==0.16.5->unstructured[pdf]==0.16.5) (2.2.1)\n",
            "Requirement already satisfied: typing-extensions in /usr/local/lib/python3.10/dist-packages (from unstructured==0.16.5->unstructured[pdf]==0.16.5) (4.12.2)\n",
            "Requirement already satisfied: unstructured-client in /usr/local/lib/python3.10/dist-packages (from unstructured==0.16.5->unstructured[pdf]==0.16.5) (0.28.1)\n",
            "Requirement already satisfied: wrapt in /usr/local/lib/python3.10/dist-packages (from unstructured==0.16.5->unstructured[pdf]==0.16.5) (1.17.0)\n",
            "Requirement already satisfied: tqdm in /usr/local/lib/python3.10/dist-packages (from unstructured==0.16.5->unstructured[pdf]==0.16.5) (4.66.6)\n",
            "Requirement already satisfied: psutil in /usr/local/lib/python3.10/dist-packages (from unstructured==0.16.5->unstructured[pdf]==0.16.5) (5.9.5)\n",
            "Requirement already satisfied: python-oxmsg in /usr/local/lib/python3.10/dist-packages (from unstructured==0.16.5->unstructured[pdf]==0.16.5) (0.0.1)\n",
            "Requirement already satisfied: html5lib in /usr/local/lib/python3.10/dist-packages (from unstructured==0.16.5->unstructured[pdf]==0.16.5) (1.1)\n",
            "Requirement already satisfied: onnx in /usr/local/lib/python3.10/dist-packages (from unstructured[pdf]==0.16.5) (1.17.0)\n",
            "Requirement already satisfied: pdf2image in /usr/local/lib/python3.10/dist-packages (from unstructured[pdf]==0.16.5) (1.17.0)\n",
            "Requirement already satisfied: pdfminer.six in /usr/local/lib/python3.10/dist-packages (from unstructured[pdf]==0.16.5) (20231228)\n",
            "Requirement already satisfied: pikepdf in /usr/local/lib/python3.10/dist-packages (from unstructured[pdf]==0.16.5) (9.4.2)\n",
            "Requirement already satisfied: pi-heif in /usr/local/lib/python3.10/dist-packages (from unstructured[pdf]==0.16.5) (0.21.0)\n",
            "Requirement already satisfied: pypdf in /usr/local/lib/python3.10/dist-packages (from unstructured[pdf]==0.16.5) (5.1.0)\n",
            "Requirement already satisfied: google-cloud-vision in /usr/local/lib/python3.10/dist-packages (from unstructured[pdf]==0.16.5) (3.8.1)\n",
            "Requirement already satisfied: effdet in /usr/local/lib/python3.10/dist-packages (from unstructured[pdf]==0.16.5) (0.4.1)\n",
            "Requirement already satisfied: unstructured-inference==0.8.1 in /usr/local/lib/python3.10/dist-packages (from unstructured[pdf]==0.16.5) (0.8.1)\n",
            "Requirement already satisfied: unstructured.pytesseract>=0.3.12 in /usr/local/lib/python3.10/dist-packages (from unstructured[pdf]==0.16.5) (0.3.13)\n",
            "Requirement already satisfied: layoutparser in /usr/local/lib/python3.10/dist-packages (from unstructured-inference==0.8.1->unstructured[pdf]==0.16.5) (0.3.4)\n",
            "Requirement already satisfied: python-multipart in /usr/local/lib/python3.10/dist-packages (from unstructured-inference==0.8.1->unstructured[pdf]==0.16.5) (0.0.19)\n",
            "Requirement already satisfied: huggingface-hub in /usr/local/lib/python3.10/dist-packages (from unstructured-inference==0.8.1->unstructured[pdf]==0.16.5) (0.26.3)\n",
            "Requirement already satisfied: opencv-python!=4.7.0.68 in /usr/local/lib/python3.10/dist-packages (from unstructured-inference==0.8.1->unstructured[pdf]==0.16.5) (4.10.0.84)\n",
            "Requirement already satisfied: onnxruntime>=1.17.0 in /usr/local/lib/python3.10/dist-packages (from unstructured-inference==0.8.1->unstructured[pdf]==0.16.5) (1.20.1)\n",
            "Requirement already satisfied: matplotlib in /usr/local/lib/python3.10/dist-packages (from unstructured-inference==0.8.1->unstructured[pdf]==0.16.5) (3.8.0)\n",
            "Requirement already satisfied: torch in /usr/local/lib/python3.10/dist-packages (from unstructured-inference==0.8.1->unstructured[pdf]==0.16.5) (2.5.1+cu121)\n",
            "Requirement already satisfied: timm in /usr/local/lib/python3.10/dist-packages (from unstructured-inference==0.8.1->unstructured[pdf]==0.16.5) (1.0.12)\n",
            "Requirement already satisfied: transformers>=4.25.1 in /usr/local/lib/python3.10/dist-packages (from unstructured-inference==0.8.1->unstructured[pdf]==0.16.5) (4.46.3)\n",
            "Requirement already satisfied: packaging>=21.3 in /usr/local/lib/python3.10/dist-packages (from unstructured.pytesseract>=0.3.12->unstructured[pdf]==0.16.5) (24.2)\n",
            "Requirement already satisfied: Pillow>=8.0.0 in /usr/local/lib/python3.10/dist-packages (from unstructured.pytesseract>=0.3.12->unstructured[pdf]==0.16.5) (11.0.0)\n",
            "Requirement already satisfied: soupsieve>1.2 in /usr/local/lib/python3.10/dist-packages (from beautifulsoup4->unstructured==0.16.5->unstructured[pdf]==0.16.5) (2.6)\n",
            "Requirement already satisfied: marshmallow<4.0.0,>=3.18.0 in /usr/local/lib/python3.10/dist-packages (from dataclasses-json->unstructured==0.16.5->unstructured[pdf]==0.16.5) (3.23.1)\n",
            "Requirement already satisfied: typing-inspect<1,>=0.4.0 in /usr/local/lib/python3.10/dist-packages (from dataclasses-json->unstructured==0.16.5->unstructured[pdf]==0.16.5) (0.9.0)\n",
            "Requirement already satisfied: torchvision in /usr/local/lib/python3.10/dist-packages (from effdet->unstructured[pdf]==0.16.5) (0.20.1+cu121)\n",
            "Requirement already satisfied: pycocotools>=2.0.2 in /usr/local/lib/python3.10/dist-packages (from effdet->unstructured[pdf]==0.16.5) (2.0.8)\n",
            "Requirement already satisfied: omegaconf>=2.0 in /usr/local/lib/python3.10/dist-packages (from effdet->unstructured[pdf]==0.16.5) (2.3.0)\n",
            "Requirement already satisfied: google-api-core!=2.0.*,!=2.1.*,!=2.10.*,!=2.2.*,!=2.3.*,!=2.4.*,!=2.5.*,!=2.6.*,!=2.7.*,!=2.8.*,!=2.9.*,<3.0.0dev,>=1.34.1 in /usr/local/lib/python3.10/dist-packages (from google-api-core[grpc]!=2.0.*,!=2.1.*,!=2.10.*,!=2.2.*,!=2.3.*,!=2.4.*,!=2.5.*,!=2.6.*,!=2.7.*,!=2.8.*,!=2.9.*,<3.0.0dev,>=1.34.1->google-cloud-vision->unstructured[pdf]==0.16.5) (2.19.2)\n",
            "Requirement already satisfied: google-auth!=2.24.0,!=2.25.0,<3.0.0dev,>=2.14.1 in /usr/local/lib/python3.10/dist-packages (from google-cloud-vision->unstructured[pdf]==0.16.5) (2.27.0)\n",
            "Requirement already satisfied: proto-plus<2.0.0dev,>=1.22.3 in /usr/local/lib/python3.10/dist-packages (from google-cloud-vision->unstructured[pdf]==0.16.5) (1.25.0)\n",
            "Requirement already satisfied: protobuf!=4.21.0,!=4.21.1,!=4.21.2,!=4.21.3,!=4.21.4,!=4.21.5,<6.0.0dev,>=3.20.2 in /usr/local/lib/python3.10/dist-packages (from google-cloud-vision->unstructured[pdf]==0.16.5) (4.25.5)\n",
            "Requirement already satisfied: six>=1.9 in /usr/local/lib/python3.10/dist-packages (from html5lib->unstructured==0.16.5->unstructured[pdf]==0.16.5) (1.16.0)\n",
            "Requirement already satisfied: webencodings in /usr/local/lib/python3.10/dist-packages (from html5lib->unstructured==0.16.5->unstructured[pdf]==0.16.5) (0.5.1)\n",
            "Requirement already satisfied: click in /usr/local/lib/python3.10/dist-packages (from nltk->unstructured==0.16.5->unstructured[pdf]==0.16.5) (8.1.7)\n",
            "Requirement already satisfied: joblib in /usr/local/lib/python3.10/dist-packages (from nltk->unstructured==0.16.5->unstructured[pdf]==0.16.5) (1.4.2)\n",
            "Requirement already satisfied: regex>=2021.8.3 in /usr/local/lib/python3.10/dist-packages (from nltk->unstructured==0.16.5->unstructured[pdf]==0.16.5) (2024.9.11)\n",
            "Requirement already satisfied: charset-normalizer>=2.0.0 in /usr/local/lib/python3.10/dist-packages (from pdfminer.six->unstructured[pdf]==0.16.5) (3.4.0)\n",
            "Requirement already satisfied: cryptography>=36.0.0 in /usr/local/lib/python3.10/dist-packages (from pdfminer.six->unstructured[pdf]==0.16.5) (43.0.3)\n",
            "Requirement already satisfied: Deprecated in /usr/local/lib/python3.10/dist-packages (from pikepdf->unstructured[pdf]==0.16.5) (1.2.15)\n",
            "Requirement already satisfied: olefile in /usr/local/lib/python3.10/dist-packages (from python-oxmsg->unstructured==0.16.5->unstructured[pdf]==0.16.5) (0.47)\n",
            "Requirement already satisfied: idna<4,>=2.5 in /usr/local/lib/python3.10/dist-packages (from requests->unstructured==0.16.5->unstructured[pdf]==0.16.5) (3.10)\n",
            "Requirement already satisfied: urllib3<3,>=1.21.1 in /usr/local/lib/python3.10/dist-packages (from requests->unstructured==0.16.5->unstructured[pdf]==0.16.5) (2.2.3)\n",
            "Requirement already satisfied: certifi>=2017.4.17 in /usr/local/lib/python3.10/dist-packages (from requests->unstructured==0.16.5->unstructured[pdf]==0.16.5) (2024.8.30)\n",
            "Requirement already satisfied: aiofiles>=24.1.0 in /usr/local/lib/python3.10/dist-packages (from unstructured-client->unstructured==0.16.5->unstructured[pdf]==0.16.5) (24.1.0)\n",
            "Requirement already satisfied: eval-type-backport<0.3.0,>=0.2.0 in /usr/local/lib/python3.10/dist-packages (from unstructured-client->unstructured==0.16.5->unstructured[pdf]==0.16.5) (0.2.0)\n",
            "Requirement already satisfied: httpx>=0.27.0 in /usr/local/lib/python3.10/dist-packages (from unstructured-client->unstructured==0.16.5->unstructured[pdf]==0.16.5) (0.28.0)\n",
            "Requirement already satisfied: jsonpath-python<2.0.0,>=1.0.6 in /usr/local/lib/python3.10/dist-packages (from unstructured-client->unstructured==0.16.5->unstructured[pdf]==0.16.5) (1.0.6)\n",
            "Requirement already satisfied: nest-asyncio>=1.6.0 in /usr/local/lib/python3.10/dist-packages (from unstructured-client->unstructured==0.16.5->unstructured[pdf]==0.16.5) (1.6.0)\n",
            "Requirement already satisfied: pydantic<2.10.0,>=2.9.2 in /usr/local/lib/python3.10/dist-packages (from unstructured-client->unstructured==0.16.5->unstructured[pdf]==0.16.5) (2.9.2)\n",
            "Requirement already satisfied: python-dateutil<3.0.0,>=2.8.2 in /usr/local/lib/python3.10/dist-packages (from unstructured-client->unstructured==0.16.5->unstructured[pdf]==0.16.5) (2.8.2)\n",
            "Requirement already satisfied: requests-toolbelt>=1.0.0 in /usr/local/lib/python3.10/dist-packages (from unstructured-client->unstructured==0.16.5->unstructured[pdf]==0.16.5) (1.0.0)\n",
            "Requirement already satisfied: cffi>=1.12 in /usr/local/lib/python3.10/dist-packages (from cryptography>=36.0.0->pdfminer.six->unstructured[pdf]==0.16.5) (1.17.1)\n",
            "Requirement already satisfied: googleapis-common-protos<2.0.dev0,>=1.56.2 in /usr/local/lib/python3.10/dist-packages (from google-api-core!=2.0.*,!=2.1.*,!=2.10.*,!=2.2.*,!=2.3.*,!=2.4.*,!=2.5.*,!=2.6.*,!=2.7.*,!=2.8.*,!=2.9.*,<3.0.0dev,>=1.34.1->google-api-core[grpc]!=2.0.*,!=2.1.*,!=2.10.*,!=2.2.*,!=2.3.*,!=2.4.*,!=2.5.*,!=2.6.*,!=2.7.*,!=2.8.*,!=2.9.*,<3.0.0dev,>=1.34.1->google-cloud-vision->unstructured[pdf]==0.16.5) (1.66.0)\n",
            "Requirement already satisfied: grpcio<2.0dev,>=1.33.2 in /usr/local/lib/python3.10/dist-packages (from google-api-core[grpc]!=2.0.*,!=2.1.*,!=2.10.*,!=2.2.*,!=2.3.*,!=2.4.*,!=2.5.*,!=2.6.*,!=2.7.*,!=2.8.*,!=2.9.*,<3.0.0dev,>=1.34.1->google-cloud-vision->unstructured[pdf]==0.16.5) (1.68.1)\n",
            "Requirement already satisfied: grpcio-status<2.0.dev0,>=1.33.2 in /usr/local/lib/python3.10/dist-packages (from google-api-core[grpc]!=2.0.*,!=2.1.*,!=2.10.*,!=2.2.*,!=2.3.*,!=2.4.*,!=2.5.*,!=2.6.*,!=2.7.*,!=2.8.*,!=2.9.*,<3.0.0dev,>=1.34.1->google-cloud-vision->unstructured[pdf]==0.16.5) (1.62.3)\n",
            "Requirement already satisfied: cachetools<6.0,>=2.0.0 in /usr/local/lib/python3.10/dist-packages (from google-auth!=2.24.0,!=2.25.0,<3.0.0dev,>=2.14.1->google-cloud-vision->unstructured[pdf]==0.16.5) (5.5.0)\n",
            "Requirement already satisfied: pyasn1-modules>=0.2.1 in /usr/local/lib/python3.10/dist-packages (from google-auth!=2.24.0,!=2.25.0,<3.0.0dev,>=2.14.1->google-cloud-vision->unstructured[pdf]==0.16.5) (0.4.1)\n",
            "Requirement already satisfied: rsa<5,>=3.1.4 in /usr/local/lib/python3.10/dist-packages (from google-auth!=2.24.0,!=2.25.0,<3.0.0dev,>=2.14.1->google-cloud-vision->unstructured[pdf]==0.16.5) (4.9)\n",
            "Requirement already satisfied: anyio in /usr/local/lib/python3.10/dist-packages (from httpx>=0.27.0->unstructured-client->unstructured==0.16.5->unstructured[pdf]==0.16.5) (3.7.1)\n",
            "Requirement already satisfied: httpcore==1.* in /usr/local/lib/python3.10/dist-packages (from httpx>=0.27.0->unstructured-client->unstructured==0.16.5->unstructured[pdf]==0.16.5) (1.0.7)\n",
            "Requirement already satisfied: h11<0.15,>=0.13 in /usr/local/lib/python3.10/dist-packages (from httpcore==1.*->httpx>=0.27.0->unstructured-client->unstructured==0.16.5->unstructured[pdf]==0.16.5) (0.14.0)\n",
            "Requirement already satisfied: antlr4-python3-runtime==4.9.* in /usr/local/lib/python3.10/dist-packages (from omegaconf>=2.0->effdet->unstructured[pdf]==0.16.5) (4.9.3)\n",
            "Requirement already satisfied: PyYAML>=5.1.0 in /usr/local/lib/python3.10/dist-packages (from omegaconf>=2.0->effdet->unstructured[pdf]==0.16.5) (6.0.2)\n",
            "Requirement already satisfied: coloredlogs in /usr/local/lib/python3.10/dist-packages (from onnxruntime>=1.17.0->unstructured-inference==0.8.1->unstructured[pdf]==0.16.5) (15.0.1)\n",
            "Requirement already satisfied: flatbuffers in /usr/local/lib/python3.10/dist-packages (from onnxruntime>=1.17.0->unstructured-inference==0.8.1->unstructured[pdf]==0.16.5) (24.3.25)\n",
            "Requirement already satisfied: sympy in /usr/local/lib/python3.10/dist-packages (from onnxruntime>=1.17.0->unstructured-inference==0.8.1->unstructured[pdf]==0.16.5) (1.13.1)\n",
            "Requirement already satisfied: contourpy>=1.0.1 in /usr/local/lib/python3.10/dist-packages (from matplotlib->unstructured-inference==0.8.1->unstructured[pdf]==0.16.5) (1.3.1)\n",
            "Requirement already satisfied: cycler>=0.10 in /usr/local/lib/python3.10/dist-packages (from matplotlib->unstructured-inference==0.8.1->unstructured[pdf]==0.16.5) (0.12.1)\n",
            "Requirement already satisfied: fonttools>=4.22.0 in /usr/local/lib/python3.10/dist-packages (from matplotlib->unstructured-inference==0.8.1->unstructured[pdf]==0.16.5) (4.55.1)\n",
            "Requirement already satisfied: kiwisolver>=1.0.1 in /usr/local/lib/python3.10/dist-packages (from matplotlib->unstructured-inference==0.8.1->unstructured[pdf]==0.16.5) (1.4.7)\n",
            "Requirement already satisfied: pyparsing>=2.3.1 in /usr/local/lib/python3.10/dist-packages (from matplotlib->unstructured-inference==0.8.1->unstructured[pdf]==0.16.5) (3.2.0)\n",
            "Requirement already satisfied: annotated-types>=0.6.0 in /usr/local/lib/python3.10/dist-packages (from pydantic<2.10.0,>=2.9.2->unstructured-client->unstructured==0.16.5->unstructured[pdf]==0.16.5) (0.7.0)\n",
            "Requirement already satisfied: pydantic-core==2.23.4 in /usr/local/lib/python3.10/dist-packages (from pydantic<2.10.0,>=2.9.2->unstructured-client->unstructured==0.16.5->unstructured[pdf]==0.16.5) (2.23.4)\n",
            "Requirement already satisfied: safetensors in /usr/local/lib/python3.10/dist-packages (from timm->unstructured-inference==0.8.1->unstructured[pdf]==0.16.5) (0.4.5)\n",
            "Requirement already satisfied: filelock in /usr/local/lib/python3.10/dist-packages (from torch->unstructured-inference==0.8.1->unstructured[pdf]==0.16.5) (3.16.1)\n",
            "Requirement already satisfied: networkx in /usr/local/lib/python3.10/dist-packages (from torch->unstructured-inference==0.8.1->unstructured[pdf]==0.16.5) (3.4.2)\n",
            "Requirement already satisfied: jinja2 in /usr/local/lib/python3.10/dist-packages (from torch->unstructured-inference==0.8.1->unstructured[pdf]==0.16.5) (3.1.4)\n",
            "Requirement already satisfied: fsspec in /usr/local/lib/python3.10/dist-packages (from torch->unstructured-inference==0.8.1->unstructured[pdf]==0.16.5) (2024.10.0)\n",
            "Requirement already satisfied: mpmath<1.4,>=1.1.0 in /usr/local/lib/python3.10/dist-packages (from sympy->onnxruntime>=1.17.0->unstructured-inference==0.8.1->unstructured[pdf]==0.16.5) (1.3.0)\n",
            "Requirement already satisfied: tokenizers<0.21,>=0.20 in /usr/local/lib/python3.10/dist-packages (from transformers>=4.25.1->unstructured-inference==0.8.1->unstructured[pdf]==0.16.5) (0.20.3)\n",
            "Requirement already satisfied: mypy-extensions>=0.3.0 in /usr/local/lib/python3.10/dist-packages (from typing-inspect<1,>=0.4.0->dataclasses-json->unstructured==0.16.5->unstructured[pdf]==0.16.5) (1.0.0)\n",
            "Requirement already satisfied: scipy in /usr/local/lib/python3.10/dist-packages (from layoutparser->unstructured-inference==0.8.1->unstructured[pdf]==0.16.5) (1.13.1)\n",
            "Requirement already satisfied: pandas in /usr/local/lib/python3.10/dist-packages (from layoutparser->unstructured-inference==0.8.1->unstructured[pdf]==0.16.5) (2.2.2)\n",
            "Requirement already satisfied: iopath in /usr/local/lib/python3.10/dist-packages (from layoutparser->unstructured-inference==0.8.1->unstructured[pdf]==0.16.5) (0.1.10)\n",
            "Requirement already satisfied: pdfplumber in /usr/local/lib/python3.10/dist-packages (from layoutparser->unstructured-inference==0.8.1->unstructured[pdf]==0.16.5) (0.11.4)\n",
            "Requirement already satisfied: pycparser in /usr/local/lib/python3.10/dist-packages (from cffi>=1.12->cryptography>=36.0.0->pdfminer.six->unstructured[pdf]==0.16.5) (2.22)\n",
            "Requirement already satisfied: pyasn1<0.7.0,>=0.4.6 in /usr/local/lib/python3.10/dist-packages (from pyasn1-modules>=0.2.1->google-auth!=2.24.0,!=2.25.0,<3.0.0dev,>=2.14.1->google-cloud-vision->unstructured[pdf]==0.16.5) (0.6.1)\n",
            "Requirement already satisfied: sniffio>=1.1 in /usr/local/lib/python3.10/dist-packages (from anyio->httpx>=0.27.0->unstructured-client->unstructured==0.16.5->unstructured[pdf]==0.16.5) (1.3.1)\n",
            "Requirement already satisfied: exceptiongroup in /usr/local/lib/python3.10/dist-packages (from anyio->httpx>=0.27.0->unstructured-client->unstructured==0.16.5->unstructured[pdf]==0.16.5) (1.2.2)\n",
            "Requirement already satisfied: humanfriendly>=9.1 in /usr/local/lib/python3.10/dist-packages (from coloredlogs->onnxruntime>=1.17.0->unstructured-inference==0.8.1->unstructured[pdf]==0.16.5) (10.0)\n",
            "Requirement already satisfied: portalocker in /usr/local/lib/python3.10/dist-packages (from iopath->layoutparser->unstructured-inference==0.8.1->unstructured[pdf]==0.16.5) (3.0.0)\n",
            "Requirement already satisfied: MarkupSafe>=2.0 in /usr/local/lib/python3.10/dist-packages (from jinja2->torch->unstructured-inference==0.8.1->unstructured[pdf]==0.16.5) (3.0.2)\n",
            "Requirement already satisfied: pytz>=2020.1 in /usr/local/lib/python3.10/dist-packages (from pandas->layoutparser->unstructured-inference==0.8.1->unstructured[pdf]==0.16.5) (2024.2)\n",
            "Requirement already satisfied: tzdata>=2022.7 in /usr/local/lib/python3.10/dist-packages (from pandas->layoutparser->unstructured-inference==0.8.1->unstructured[pdf]==0.16.5) (2024.2)\n",
            "Requirement already satisfied: pypdfium2>=4.18.0 in /usr/local/lib/python3.10/dist-packages (from pdfplumber->layoutparser->unstructured-inference==0.8.1->unstructured[pdf]==0.16.5) (4.30.0)\n"
          ]
        }
      ]
    },
    {
      "cell_type": "code",
      "source": [
        "\n",
        "from unstructured.partition.pdf import partition_pdf\n",
        "\n",
        "elements = partition_pdf('/content/asco-abstract.pdf')\n",
        "unstructures_text = \"\\n\\n\".join([str(el) for el in elements])\n",
        "unstructures_text\n",
        ""
      ],
      "metadata": {
        "colab": {
          "base_uri": "https://localhost:8080/",
          "height": 469
        },
        "id": "bAwVNpkeYx7O",
        "outputId": "c8e37620-35b7-4c77-81f3-68fd9ba421f9"
      },
      "execution_count": 3,
      "outputs": [
        {
          "output_type": "execute_result",
          "data": {
            "text/plain": [
              "'GENITOURINARY CANCER—KIDNEY AND BLADDER\\n\\n4566\\n\\nPoster Session\\n\\nAvelumab first-line maintenance (1LM) for advanced urothelial carcinoma (aUC): Long-term outcomes from JAVELIN Bladder 100 in patients (pts) with low tumor burden.\\n\\nJoaquim Bellmunt, Thomas Powles, Se Hoon Park, Eric Voog, Bego~na P´erez Valderrama, Howard Gurney, Anders Ull´en, Yohann Loriot, Srikala S. Sridhar, Norihiko Tsuchiya, Cora N. Sternberg, Jeanny B. Aragon-Ching, Daniel P. Petrylak, Miguel A. Climent Duran, Karin Tyroller, Jason Hoffman, Natalia Jacob, Petros Grivas, Shilpa Gupta; Beth Israel Deaconess Medical Center; Harvard Medical School, Boston, MA; Barts Cancer Institute, Experimental Cancer Medicine Centre, Queen Mary University of London, St Bartholomew’s Hospital, London, United Kingdom; Samsung Medical Center, Sungkyunkwan University School of Medicine, Seoul, South Korea; Clinique Victor Hugo, Centre Jean Bernard, Le Mans, France; Hospital Universitario Virgen del Roc´ıo, Seville, Spain; Department of Clinical Medicine, Macquarie University, Westmead, Australia; Karolinska University Hospital, Solna, Sweden; Gustave Roussy, INSERMU981, Universit´e Paris-Saclay, Villejuif, France; Princess Margaret Cancer Centre, University Health Network, Toronto, ON, Canada; Yamagata University Faculty of Medicine, Yamagata, Japan; Englander Institute for Precision Medicine, Meyer Cancer Center, New York, NY; Inova Schar Cancer Institute, Fairfax, VA; Yale Cancer Center, New Haven, CT; Instituto Valenciano de Oncolog´ıa, Valencia, Spain; EMD Serono, Billerica, MA; The Healthcare Business of Merck KGaA, Darmstadt, Germany; University of Washington, Fred Hutchinson Cancer Center, Seattle, WA; Taussig Cancer Institute, Cleveland Clinic, Cleveland, OH\\n\\nBackground: In the JAVELIN Bladder 100 phase 3 trial, avelumab 1LM + best supportive care (BSC) significantly prolonged overall survival (OS) and progression-free survival (PFS) vs BSC alone in pts with aUC that had not progressed with 1L platinum-based chemotherapy (PBC). Results led to the incorporation of avelumab 1LM into international guidelines. Prior analyses have shown that low tumor burden (eg, nonvisceral metastases or lymph node [LN]-only disease) is associated with better outcomes in pts with aUC receiving immune checkpoint inhibitors. We report post hoc analyses of efficacy and safety in subsets of pts with low tumor burden from JAVELIN Bladder 100. Methods: Eligible pts with unresectable locally advanced (LA) or metastatic UC without progression after 1L PBC were randomized 1:1 to receive avelumab + BSC (n=350) or BSC alone (n=350). The primary endpoint was OS measured from random- ization; secondary endpoints included PFS and safety. In this post hoc analysis, pts with nonvisceral metastases included those with LA disease or only nonvisceral disease, including bone metastasis, at randomization. Results: In the avelumab + BSC and BSC alone arms, 159 and 159 pts had nonvisceral metastases and 51 and 51 pts had LN-only disease, of whom 42 and 35 pts had LN-only disease in the pelvic/retroperitoneal area. At the efficacy data cutoff (June 4, 2021), median follow-up was $38 mo in both arms ($2 y in all pts). In all subgroups, OS and PFS were prolonged with avelumab + BSC vs BSC alone (Table). Incidence of treatment-related adverse events (TRAEs) with avelumab were similar across subgroups. In the avelumab + BSC and BSC alone arms, subsequent anticancer drug treatment was received by 90 (56.6%) vs 119 pts (74.8%) with nonvisceral metastases, 27 (52.9%) vs 39 pts (76.5%) with LN-only disease, and 22 (52.4%) vs 27 pts (77.1%) with pelvic/retroperitoneal LN-only disease. Conclusions: Exploratory analyses suggest that avelumab 1LM has pronounced efficacy and manageable toxicity in pts with aUC who have low tumor burden, supporting its use as a standard of care in this setting. Clinical trial information: NCT02603432. Research Sponsor: Pfizer; the healthcare business of Merck KGaA, Darmstadt, Germany (CrossRef Funder ID: 10.13039/100009945).\\n\\nNonvisceral Metastases\\n\\nLN-Only Disease\\n\\nPelvic/Retroperitoneal LN-Only Disease\\n\\nAvelumab + BSC (n=159)\\n\\nBSC (n=159)\\n\\nAvelumab + BSC (n=51)\\n\\nBSC (n=51)\\n\\nAvelumab + BSC (n=42)\\n\\nBSC (n=35)\\n\\nMedian OS,* mo (95% CI)\\n\\n31.4 (26.1-36.8)\\n\\n17.1 (13.7-21.3)\\n\\n31.9 (26.1-44.5)\\n\\n22.7 (16.5-NE)\\n\\n31.2 (23.8-44.5)\\n\\n20.2 (13.7-NE)\\n\\nStratified HR for OS (95% CI) Median PFS by investigator,*\\n\\nmo (95% CI)\\n\\n0.60 (0.45-0.79) 3.3 9.0 (2.0-3.7) (5.7-12.6)\\n\\n0.86 (0.51-1.47) 3.7 8.7 (2.0-6.0) (5.4-24.7)\\n\\n0.72 (0.39-1.31) 3.7 7.5 (1.9-5.7) (4.2-12.0)\\n\\nStratified HR for PFS (95% CI) TRAEs, n (%)† Any grade Grade ‡3\\n\\n0.45 (0.35-0.59)\\n\\n122 (77.2) 30 (19.0)\\n\\n2 (1.3) 0\\n\\n0.51 (0.31-0.84)\\n\\n44 (88.0) 8 (16.0)\\n\\n0 0\\n\\n0.44 (0.24-0.79)\\n\\n36 (87.8) 6 (14.6)\\n\\n0 0\\n\\nNE, not estimable. *Measured from randomization. †Treated pts; data cutoff: April 6, 2023.'"
            ],
            "application/vnd.google.colaboratory.intrinsic+json": {
              "type": "string"
            }
          },
          "metadata": {},
          "execution_count": 3
        }
      ]
    },
    {
      "cell_type": "markdown",
      "source": [
        "Output of Unstructured is same as pypdf"
      ],
      "metadata": {
        "id": "6tB25qGiY_bv"
      }
    },
    {
      "cell_type": "markdown",
      "source": [
        "## pymupdf4llm"
      ],
      "metadata": {
        "id": "41a3LUZiZJlg"
      }
    },
    {
      "cell_type": "code",
      "source": [
        "!pip install pymupdf4llm"
      ],
      "metadata": {
        "colab": {
          "base_uri": "https://localhost:8080/"
        },
        "id": "upg0GHgsZODf",
        "outputId": "9ad361c8-2fbf-4575-9d46-c354870d94b6"
      },
      "execution_count": 4,
      "outputs": [
        {
          "output_type": "stream",
          "name": "stdout",
          "text": [
            "Collecting pymupdf4llm\n",
            "  Downloading pymupdf4llm-0.0.17-py3-none-any.whl.metadata (4.1 kB)\n",
            "Collecting pymupdf>=1.24.10 (from pymupdf4llm)\n",
            "  Downloading pymupdf-1.25.0-cp39-abi3-manylinux2014_x86_64.manylinux_2_17_x86_64.whl.metadata (3.4 kB)\n",
            "Downloading pymupdf4llm-0.0.17-py3-none-any.whl (26 kB)\n",
            "Downloading pymupdf-1.25.0-cp39-abi3-manylinux2014_x86_64.manylinux_2_17_x86_64.whl (20.0 MB)\n",
            "\u001b[2K   \u001b[90m━━━━━━━━━━━━━━━━━━━━━━━━━━━━━━━━━━━━━━━━\u001b[0m \u001b[32m20.0/20.0 MB\u001b[0m \u001b[31m64.4 MB/s\u001b[0m eta \u001b[36m0:00:00\u001b[0m\n",
            "\u001b[?25hInstalling collected packages: pymupdf, pymupdf4llm\n",
            "Successfully installed pymupdf-1.25.0 pymupdf4llm-0.0.17\n"
          ]
        }
      ]
    },
    {
      "cell_type": "code",
      "source": [
        "\n",
        "import pymupdf4llm\n",
        "\n",
        "markdwon_text = pymupdf4llm.to_markdown('/content/asco-abstract.pdf')"
      ],
      "metadata": {
        "colab": {
          "base_uri": "https://localhost:8080/"
        },
        "id": "yk5tCaQVZc03",
        "outputId": "53741d72-b420-4133-ccce-d2674a89604f"
      },
      "execution_count": 5,
      "outputs": [
        {
          "output_type": "stream",
          "name": "stdout",
          "text": [
            "Processing /content/asco-abstract.pdf...\n",
            "[                                        ] (0/1)\b\b\b\b\b\b\b\b\b\b\b\b\b\b\b\b\b\b\b\b\b\b\b\b\b\b\b\b\b\b\b\b\b\b\b\b\b\b\b\b\b\b\b\b\b\b\b========================================\b\b\b\b\b\b\b\b\b\b\b\b\b\b\b\b\b\b\b\b\b\b\b\b\b\b\b\b\b\b\b\b\b\b\b\b\b\b\b\b\b\b\b\b\b\b\b[========================================] (1/1)\b\b\b\b\b\b\b]\n"
          ]
        }
      ]
    },
    {
      "cell_type": "code",
      "source": [
        "markdwon_text"
      ],
      "metadata": {
        "colab": {
          "base_uri": "https://localhost:8080/",
          "height": 469
        },
        "id": "LJA57P9uZ9rx",
        "outputId": "6f6b8eed-36d4-43a1-bcb6-2c930960029d"
      },
      "execution_count": 6,
      "outputs": [
        {
          "output_type": "execute_result",
          "data": {
            "text/plain": [
              "'# Avelumab first-line maintenance (1LM) for advanced urothelial carcinoma (aUC): Long-term outcomes from JAVELIN Bladder 100 in patients (pts) with low tumor burden.\\n\\nJoaquim Bellmunt, Thomas Powles, Se Hoon Park, Eric Voog, Bego[~]na P´erez Valderrama, Howard Gurney, Anders Ull´en, Yohann Loriot, Srikala S. Sridhar, Norihiko Tsuchiya,\\nCora N. Sternberg, Jeanny B. Aragon-Ching, Daniel P. Petrylak, Miguel A. Climent Duran, Karin Tyroller, Jason Hoffman, Natalia Jacob, Petros Grivas, Shilpa Gupta; Beth\\nIsrael Deaconess Medical Center; Harvard Medical School, Boston, MA; Barts Cancer Institute, Experimental Cancer Medicine Centre, Queen Mary University of London, St\\nBartholomew’s Hospital, London, United Kingdom; Samsung Medical Center, Sungkyunkwan University School of Medicine, Seoul, South Korea; Clinique Victor Hugo,\\nCentre Jean Bernard, Le Mans, France; Hospital Universitario Virgen del Roc´ıo, Seville, Spain; Department of Clinical Medicine, Macquarie University, Westmead, Australia;\\nKarolinska University Hospital, Solna, Sweden; Gustave Roussy, INSERMU981, Universit´e Paris-Saclay, Villejuif, France; Princess Margaret Cancer Centre, University Health\\nNetwork, Toronto, ON, Canada; Yamagata University Faculty of Medicine, Yamagata, Japan; Englander Institute for Precision Medicine, Meyer Cancer Center, New York, NY;\\nInova Schar Cancer Institute, Fairfax, VA; Yale Cancer Center, New Haven, CT; Instituto Valenciano de Oncolog´ıa, Valencia, Spain; EMD Serono, Billerica, MA; The Healthcare\\nBusiness of Merck KGaA, Darmstadt, Germany; University of Washington, Fred Hutchinson Cancer Center, Seattle, WA; Taussig Cancer Institute, Cleveland Clinic,\\nCleveland, OH\\n\\nBackground: In the JAVELIN Bladder 100 phase 3 trial, avelumab 1LM + best supportive care\\n(BSC) significantly prolonged overall survival (OS) and progression-free survival (PFS) vs BSC\\nalone in pts with aUC that had not progressed with 1L platinum-based chemotherapy (PBC).\\nResults led to the incorporation of avelumab 1LM into international guidelines. Prior analyses\\nhave shown that low tumor burden (eg, nonvisceral metastases or lymph node [LN]-only\\ndisease) is associated with better outcomes in pts with aUC receiving immune checkpoint\\ninhibitors. We report post hoc analyses of efficacy and safety in subsets of pts with low tumor\\nburden from JAVELIN Bladder 100. Methods: Eligible pts with unresectable locally advanced\\n(LA) or metastatic UC without progression after 1L PBC were randomized 1:1 to receive avelumab\\n+ BSC (n=350) or BSC alone (n=350). The primary endpoint was OS measured from randomization; secondary endpoints included PFS and safety. In this post hoc analysis, pts with\\nnonvisceral metastases included those with LA disease or only nonvisceral disease, including\\nbone metastasis, at randomization. Results: In the avelumab + BSC and BSC alone arms, 159 and\\n159 pts had nonvisceral metastases and 51 and 51 pts had LN-only disease, of whom 42 and 35\\npts had LN-only disease in the pelvic/retroperitoneal area. At the efficacy data cutoff (June 4,\\n2021), median follow-up was $38 mo in both arms ($2 y in all pts). In all subgroups, OS and PFS\\nwere prolonged with avelumab + BSC vs BSC alone (Table). Incidence of treatment-related\\nadverse events (TRAEs) with avelumab were similar across subgroups. In the avelumab + BSC\\nand BSC alone arms, subsequent anticancer drug treatment was received by 90 (56.6%) vs 119\\npts (74.8%) with nonvisceral metastases, 27 (52.9%) vs 39 pts (76.5%) with LN-only disease,\\nand 22 (52.4%) vs 27 pts (77.1%) with pelvic/retroperitoneal LN-only disease. Conclusions:\\nExploratory analyses suggest that avelumab 1LM has pronounced efficacy and manageable\\ntoxicity in pts with aUC who have low tumor burden, supporting its use as a standard of care in\\n[this setting. Clinical trial information: NCT02603432. Research Sponsor: Pfizer; the healthcare](http://www.clinicaltrials.gov/ct2/show/NCT02603432)\\nbusiness of Merck KGaA, Darmstadt, Germany (CrossRef Funder ID: 10.13039/100009945).\\n\\nPelvic/Retroperitoneal\\nNonvisceral Metastases LN-Only Disease LN-Only Disease\\n\\n\\nAvelumab +\\nBSC BSC\\n(n=159) (n=159)\\n\\n\\nAvelumab\\n+ BSC\\nBSC (n=51) (n=51)\\n\\n\\nAvelumab\\n+ BSC\\nBSC (n=42) (n=35)\\n\\n\\nMedian OS,* mo (95% CI) 31.4 17.1 31.9 22.7 31.2 20.2\\n(26.1-36.8) (13.7-21.3) (26.1-44.5) (16.5-NE) (23.8-44.5) (13.7-NE)\\nStratified HR for OS (95% CI) 0.60 (0.45-0.79) 0.86 (0.51-1.47) 0.72 (0.39-1.31)\\nMedian PFS by investigator,* 9.0 3.3 8.7 3.7 7.5 3.7\\nmo (95% CI) (5.7-12.6) (2.0-3.7) (5.4-24.7) (2.0-6.0) (4.2-12.0) (1.9-5.7)\\nStratified HR for PFS (95% CI) 0.45 (0.35-0.59) 0.51 (0.31-0.84) 0.44 (0.24-0.79)\\nTRAEs, n (%)[†]\\n\\nAny grade 122 (77.2) 2 (1.3) 44 (88.0) 0 36 (87.8) 0\\nGrade ‡3 30 (19.0) 0 8 (16.0) 0 6 (14.6) 0\\n\\nNE, not estimable. *Measured from randomization. [†]Treated pts; data cutoff: April 6, 2023.\\n\\n\\n-----\\n\\n'"
            ],
            "application/vnd.google.colaboratory.intrinsic+json": {
              "type": "string"
            }
          },
          "metadata": {},
          "execution_count": 6
        }
      ]
    },
    {
      "cell_type": "markdown",
      "source": [
        "clearly formatted (Heading and Subheading),Table did not parse table correctly"
      ],
      "metadata": {
        "id": "N2dvUXJZaCz9"
      }
    },
    {
      "cell_type": "markdown",
      "source": [
        "## Docling"
      ],
      "metadata": {
        "id": "iTc1hxxkbCEB"
      }
    },
    {
      "cell_type": "code",
      "source": [
        "!pip install docling"
      ],
      "metadata": {
        "colab": {
          "base_uri": "https://localhost:8080/"
        },
        "id": "nDAKLnLObAae",
        "outputId": "281d1c41-405c-4bd1-a3e4-97d8c7656ab9"
      },
      "execution_count": 1,
      "outputs": [
        {
          "output_type": "stream",
          "name": "stdout",
          "text": [
            "Requirement already satisfied: docling in /usr/local/lib/python3.10/dist-packages (2.10.0)\n",
            "Requirement already satisfied: beautifulsoup4<5.0.0,>=4.12.3 in /usr/local/lib/python3.10/dist-packages (from docling) (4.12.3)\n",
            "Requirement already satisfied: certifi>=2024.7.4 in /usr/local/lib/python3.10/dist-packages (from docling) (2024.8.30)\n",
            "Requirement already satisfied: deepsearch-glm<2.0.0,>=1.0.0 in /usr/local/lib/python3.10/dist-packages (from docling) (1.0.0)\n",
            "Requirement already satisfied: docling-core<3.0.0,>=2.9.0 in /usr/local/lib/python3.10/dist-packages (from docling-core[chunking]<3.0.0,>=2.9.0->docling) (2.9.0)\n",
            "Requirement already satisfied: docling-ibm-models<3.0.0,>=2.0.6 in /usr/local/lib/python3.10/dist-packages (from docling) (2.0.7)\n",
            "Requirement already satisfied: docling-parse<4.0.0,>=3.0.0 in /usr/local/lib/python3.10/dist-packages (from docling) (3.0.0)\n",
            "Requirement already satisfied: easyocr<2.0,>=1.7 in /usr/local/lib/python3.10/dist-packages (from docling) (1.7.2)\n",
            "Requirement already satisfied: filetype<2.0.0,>=1.2.0 in /usr/local/lib/python3.10/dist-packages (from docling) (1.2.0)\n",
            "Requirement already satisfied: huggingface_hub<1,>=0.23 in /usr/local/lib/python3.10/dist-packages (from docling) (0.26.3)\n",
            "Requirement already satisfied: lxml<6.0.0,>=4.0.0 in /usr/local/lib/python3.10/dist-packages (from docling) (5.3.0)\n",
            "Requirement already satisfied: marko<3.0.0,>=2.1.2 in /usr/local/lib/python3.10/dist-packages (from docling) (2.1.2)\n",
            "Requirement already satisfied: openpyxl<4.0.0,>=3.1.5 in /usr/local/lib/python3.10/dist-packages (from docling) (3.1.5)\n",
            "Requirement already satisfied: pandas<3.0.0,>=2.1.4 in /usr/local/lib/python3.10/dist-packages (from docling) (2.2.2)\n",
            "Requirement already satisfied: pydantic<3.0.0,>=2.0.0 in /usr/local/lib/python3.10/dist-packages (from docling) (2.9.2)\n",
            "Requirement already satisfied: pydantic-settings<3.0.0,>=2.3.0 in /usr/local/lib/python3.10/dist-packages (from docling) (2.6.1)\n",
            "Requirement already satisfied: pypdfium2<5.0.0,>=4.30.0 in /usr/local/lib/python3.10/dist-packages (from docling) (4.30.0)\n",
            "Requirement already satisfied: python-docx<2.0.0,>=1.1.2 in /usr/local/lib/python3.10/dist-packages (from docling) (1.1.2)\n",
            "Requirement already satisfied: python-pptx<2.0.0,>=1.0.2 in /usr/local/lib/python3.10/dist-packages (from docling) (1.0.2)\n",
            "Requirement already satisfied: requests<3.0.0,>=2.32.3 in /usr/local/lib/python3.10/dist-packages (from docling) (2.32.3)\n",
            "Requirement already satisfied: rtree<2.0.0,>=1.3.0 in /usr/local/lib/python3.10/dist-packages (from docling) (1.3.0)\n",
            "Requirement already satisfied: scipy<2.0.0,>=1.6.0 in /usr/local/lib/python3.10/dist-packages (from docling) (1.13.1)\n",
            "Requirement already satisfied: typer<0.13.0,>=0.12.5 in /usr/local/lib/python3.10/dist-packages (from docling) (0.12.5)\n",
            "Requirement already satisfied: soupsieve>1.2 in /usr/local/lib/python3.10/dist-packages (from beautifulsoup4<5.0.0,>=4.12.3->docling) (2.6)\n",
            "Requirement already satisfied: jsonref<2.0.0,>=1.1.0 in /usr/local/lib/python3.10/dist-packages (from docling-core<3.0.0,>=2.9.0->docling-core[chunking]<3.0.0,>=2.9.0->docling) (1.1.0)\n",
            "Requirement already satisfied: jsonschema<5.0.0,>=4.16.0 in /usr/local/lib/python3.10/dist-packages (from docling-core<3.0.0,>=2.9.0->docling-core[chunking]<3.0.0,>=2.9.0->docling) (4.23.0)\n",
            "Requirement already satisfied: pillow<11.0.0,>=10.3.0 in /usr/local/lib/python3.10/dist-packages (from docling-core<3.0.0,>=2.9.0->docling-core[chunking]<3.0.0,>=2.9.0->docling) (10.4.0)\n",
            "Requirement already satisfied: pyyaml<7.0.0,>=5.1 in /usr/local/lib/python3.10/dist-packages (from docling-core<3.0.0,>=2.9.0->docling-core[chunking]<3.0.0,>=2.9.0->docling) (6.0.2)\n",
            "Requirement already satisfied: tabulate<0.10.0,>=0.9.0 in /usr/local/lib/python3.10/dist-packages (from docling-core<3.0.0,>=2.9.0->docling-core[chunking]<3.0.0,>=2.9.0->docling) (0.9.0)\n",
            "Requirement already satisfied: typing-extensions<5.0.0,>=4.12.2 in /usr/local/lib/python3.10/dist-packages (from docling-core<3.0.0,>=2.9.0->docling-core[chunking]<3.0.0,>=2.9.0->docling) (4.12.2)\n",
            "Requirement already satisfied: semchunk<3.0.0,>=2.2.0 in /usr/local/lib/python3.10/dist-packages (from docling-core[chunking]<3.0.0,>=2.9.0->docling) (2.2.0)\n",
            "Requirement already satisfied: transformers<5.0.0,>=4.34.0 in /usr/local/lib/python3.10/dist-packages (from docling-core[chunking]<3.0.0,>=2.9.0->docling) (4.46.3)\n",
            "Requirement already satisfied: jsonlines<4.0.0,>=3.1.0 in /usr/local/lib/python3.10/dist-packages (from docling-ibm-models<3.0.0,>=2.0.6->docling) (3.1.0)\n",
            "Requirement already satisfied: numpy<3.0.0,>=1.24.4 in /usr/local/lib/python3.10/dist-packages (from docling-ibm-models<3.0.0,>=2.0.6->docling) (1.26.4)\n",
            "Requirement already satisfied: opencv-python-headless<5.0.0.0,>=4.6.0.66 in /usr/local/lib/python3.10/dist-packages (from docling-ibm-models<3.0.0,>=2.0.6->docling) (4.10.0.84)\n",
            "Requirement already satisfied: torch<3.0.0,>=2.2.2 in /usr/local/lib/python3.10/dist-packages (from docling-ibm-models<3.0.0,>=2.0.6->docling) (2.5.1+cu121)\n",
            "Requirement already satisfied: torchvision<1,>=0 in /usr/local/lib/python3.10/dist-packages (from docling-ibm-models<3.0.0,>=2.0.6->docling) (0.20.1+cu121)\n",
            "Requirement already satisfied: tqdm<5.0.0,>=4.64.0 in /usr/local/lib/python3.10/dist-packages (from docling-ibm-models<3.0.0,>=2.0.6->docling) (4.66.6)\n",
            "Requirement already satisfied: autoflake<3.0.0,>=2.3.1 in /usr/local/lib/python3.10/dist-packages (from docling-parse<4.0.0,>=3.0.0->docling) (2.3.1)\n",
            "Requirement already satisfied: scikit-image in /usr/local/lib/python3.10/dist-packages (from easyocr<2.0,>=1.7->docling) (0.24.0)\n",
            "Requirement already satisfied: python-bidi in /usr/local/lib/python3.10/dist-packages (from easyocr<2.0,>=1.7->docling) (0.6.3)\n",
            "Requirement already satisfied: Shapely in /usr/local/lib/python3.10/dist-packages (from easyocr<2.0,>=1.7->docling) (2.0.6)\n",
            "Requirement already satisfied: pyclipper in /usr/local/lib/python3.10/dist-packages (from easyocr<2.0,>=1.7->docling) (1.3.0.post6)\n",
            "Requirement already satisfied: ninja in /usr/local/lib/python3.10/dist-packages (from easyocr<2.0,>=1.7->docling) (1.11.1.2)\n",
            "Requirement already satisfied: filelock in /usr/local/lib/python3.10/dist-packages (from huggingface_hub<1,>=0.23->docling) (3.16.1)\n",
            "Requirement already satisfied: fsspec>=2023.5.0 in /usr/local/lib/python3.10/dist-packages (from huggingface_hub<1,>=0.23->docling) (2024.10.0)\n",
            "Requirement already satisfied: packaging>=20.9 in /usr/local/lib/python3.10/dist-packages (from huggingface_hub<1,>=0.23->docling) (24.2)\n",
            "Requirement already satisfied: et-xmlfile in /usr/local/lib/python3.10/dist-packages (from openpyxl<4.0.0,>=3.1.5->docling) (2.0.0)\n",
            "Requirement already satisfied: python-dateutil>=2.8.2 in /usr/local/lib/python3.10/dist-packages (from pandas<3.0.0,>=2.1.4->docling) (2.8.2)\n",
            "Requirement already satisfied: pytz>=2020.1 in /usr/local/lib/python3.10/dist-packages (from pandas<3.0.0,>=2.1.4->docling) (2024.2)\n",
            "Requirement already satisfied: tzdata>=2022.7 in /usr/local/lib/python3.10/dist-packages (from pandas<3.0.0,>=2.1.4->docling) (2024.2)\n",
            "Requirement already satisfied: annotated-types>=0.6.0 in /usr/local/lib/python3.10/dist-packages (from pydantic<3.0.0,>=2.0.0->docling) (0.7.0)\n",
            "Requirement already satisfied: pydantic-core==2.23.4 in /usr/local/lib/python3.10/dist-packages (from pydantic<3.0.0,>=2.0.0->docling) (2.23.4)\n",
            "Requirement already satisfied: python-dotenv>=0.21.0 in /usr/local/lib/python3.10/dist-packages (from pydantic-settings<3.0.0,>=2.3.0->docling) (1.0.1)\n",
            "Requirement already satisfied: XlsxWriter>=0.5.7 in /usr/local/lib/python3.10/dist-packages (from python-pptx<2.0.0,>=1.0.2->docling) (3.2.0)\n",
            "Requirement already satisfied: charset-normalizer<4,>=2 in /usr/local/lib/python3.10/dist-packages (from requests<3.0.0,>=2.32.3->docling) (3.4.0)\n",
            "Requirement already satisfied: idna<4,>=2.5 in /usr/local/lib/python3.10/dist-packages (from requests<3.0.0,>=2.32.3->docling) (3.10)\n",
            "Requirement already satisfied: urllib3<3,>=1.21.1 in /usr/local/lib/python3.10/dist-packages (from requests<3.0.0,>=2.32.3->docling) (2.2.3)\n",
            "Requirement already satisfied: click>=8.0.0 in /usr/local/lib/python3.10/dist-packages (from typer<0.13.0,>=0.12.5->docling) (8.1.7)\n",
            "Requirement already satisfied: shellingham>=1.3.0 in /usr/local/lib/python3.10/dist-packages (from typer<0.13.0,>=0.12.5->docling) (1.5.4)\n",
            "Requirement already satisfied: rich>=10.11.0 in /usr/local/lib/python3.10/dist-packages (from typer<0.13.0,>=0.12.5->docling) (13.9.4)\n",
            "Requirement already satisfied: pyflakes>=3.0.0 in /usr/local/lib/python3.10/dist-packages (from autoflake<3.0.0,>=2.3.1->docling-parse<4.0.0,>=3.0.0->docling) (3.2.0)\n",
            "Requirement already satisfied: tomli>=2.0.1 in /usr/local/lib/python3.10/dist-packages (from autoflake<3.0.0,>=2.3.1->docling-parse<4.0.0,>=3.0.0->docling) (2.2.1)\n",
            "Requirement already satisfied: attrs>=19.2.0 in /usr/local/lib/python3.10/dist-packages (from jsonlines<4.0.0,>=3.1.0->docling-ibm-models<3.0.0,>=2.0.6->docling) (24.2.0)\n",
            "Requirement already satisfied: jsonschema-specifications>=2023.03.6 in /usr/local/lib/python3.10/dist-packages (from jsonschema<5.0.0,>=4.16.0->docling-core<3.0.0,>=2.9.0->docling-core[chunking]<3.0.0,>=2.9.0->docling) (2024.10.1)\n",
            "Requirement already satisfied: referencing>=0.28.4 in /usr/local/lib/python3.10/dist-packages (from jsonschema<5.0.0,>=4.16.0->docling-core<3.0.0,>=2.9.0->docling-core[chunking]<3.0.0,>=2.9.0->docling) (0.35.1)\n",
            "Requirement already satisfied: rpds-py>=0.7.1 in /usr/local/lib/python3.10/dist-packages (from jsonschema<5.0.0,>=4.16.0->docling-core<3.0.0,>=2.9.0->docling-core[chunking]<3.0.0,>=2.9.0->docling) (0.22.3)\n",
            "Requirement already satisfied: six>=1.5 in /usr/local/lib/python3.10/dist-packages (from python-dateutil>=2.8.2->pandas<3.0.0,>=2.1.4->docling) (1.16.0)\n",
            "Requirement already satisfied: markdown-it-py>=2.2.0 in /usr/local/lib/python3.10/dist-packages (from rich>=10.11.0->typer<0.13.0,>=0.12.5->docling) (3.0.0)\n",
            "Requirement already satisfied: pygments<3.0.0,>=2.13.0 in /usr/local/lib/python3.10/dist-packages (from rich>=10.11.0->typer<0.13.0,>=0.12.5->docling) (2.18.0)\n",
            "Requirement already satisfied: mpire[dill] in /usr/local/lib/python3.10/dist-packages (from semchunk<3.0.0,>=2.2.0->docling-core[chunking]<3.0.0,>=2.9.0->docling) (2.10.2)\n",
            "Requirement already satisfied: networkx in /usr/local/lib/python3.10/dist-packages (from torch<3.0.0,>=2.2.2->docling-ibm-models<3.0.0,>=2.0.6->docling) (3.4.2)\n",
            "Requirement already satisfied: jinja2 in /usr/local/lib/python3.10/dist-packages (from torch<3.0.0,>=2.2.2->docling-ibm-models<3.0.0,>=2.0.6->docling) (3.1.4)\n",
            "Requirement already satisfied: sympy==1.13.1 in /usr/local/lib/python3.10/dist-packages (from torch<3.0.0,>=2.2.2->docling-ibm-models<3.0.0,>=2.0.6->docling) (1.13.1)\n",
            "Requirement already satisfied: mpmath<1.4,>=1.1.0 in /usr/local/lib/python3.10/dist-packages (from sympy==1.13.1->torch<3.0.0,>=2.2.2->docling-ibm-models<3.0.0,>=2.0.6->docling) (1.3.0)\n",
            "Requirement already satisfied: regex!=2019.12.17 in /usr/local/lib/python3.10/dist-packages (from transformers<5.0.0,>=4.34.0->docling-core[chunking]<3.0.0,>=2.9.0->docling) (2024.9.11)\n",
            "Requirement already satisfied: tokenizers<0.21,>=0.20 in /usr/local/lib/python3.10/dist-packages (from transformers<5.0.0,>=4.34.0->docling-core[chunking]<3.0.0,>=2.9.0->docling) (0.20.3)\n",
            "Requirement already satisfied: safetensors>=0.4.1 in /usr/local/lib/python3.10/dist-packages (from transformers<5.0.0,>=4.34.0->docling-core[chunking]<3.0.0,>=2.9.0->docling) (0.4.5)\n",
            "Requirement already satisfied: imageio>=2.33 in /usr/local/lib/python3.10/dist-packages (from scikit-image->easyocr<2.0,>=1.7->docling) (2.36.1)\n",
            "Requirement already satisfied: tifffile>=2022.8.12 in /usr/local/lib/python3.10/dist-packages (from scikit-image->easyocr<2.0,>=1.7->docling) (2024.9.20)\n",
            "Requirement already satisfied: lazy-loader>=0.4 in /usr/local/lib/python3.10/dist-packages (from scikit-image->easyocr<2.0,>=1.7->docling) (0.4)\n",
            "Requirement already satisfied: mdurl~=0.1 in /usr/local/lib/python3.10/dist-packages (from markdown-it-py>=2.2.0->rich>=10.11.0->typer<0.13.0,>=0.12.5->docling) (0.1.2)\n",
            "Requirement already satisfied: MarkupSafe>=2.0 in /usr/local/lib/python3.10/dist-packages (from jinja2->torch<3.0.0,>=2.2.2->docling-ibm-models<3.0.0,>=2.0.6->docling) (3.0.2)\n",
            "Requirement already satisfied: multiprocess in /usr/local/lib/python3.10/dist-packages (from mpire[dill]->semchunk<3.0.0,>=2.2.0->docling-core[chunking]<3.0.0,>=2.9.0->docling) (0.70.17)\n",
            "Requirement already satisfied: dill>=0.3.9 in /usr/local/lib/python3.10/dist-packages (from multiprocess->mpire[dill]->semchunk<3.0.0,>=2.2.0->docling-core[chunking]<3.0.0,>=2.9.0->docling) (0.3.9)\n"
          ]
        }
      ]
    },
    {
      "cell_type": "code",
      "source": [
        "\n",
        "from docling.document_converter import DocumentConverter\n",
        "converter = DocumentConverter()\n",
        "result = converter.convert('/content/asco-abstract.pdf')\n",
        "docling_text = result.document.export_to_markdown()\n",
        ""
      ],
      "metadata": {
        "colab": {
          "base_uri": "https://localhost:8080/"
        },
        "id": "iRAf4UQzbgww",
        "outputId": "319d6bc4-e867-46eb-caff-c88c4f7889b0"
      },
      "execution_count": 2,
      "outputs": [
        {
          "output_type": "stream",
          "name": "stderr",
          "text": [
            "/usr/local/lib/python3.10/dist-packages/huggingface_hub/utils/_auth.py:104: UserWarning: \n",
            "Error while fetching `HF_TOKEN` secret value from your vault: 'Requesting secret HF_TOKEN timed out. Secrets can only be fetched when running from the Colab UI.'.\n",
            "You are not authenticated with the Hugging Face Hub in this notebook.\n",
            "If the error persists, please let us know by opening an issue on GitHub (https://github.com/huggingface/huggingface_hub/issues/new).\n",
            "  warnings.warn(\n",
            "WARNING:easyocr.easyocr:Neither CUDA nor MPS are available - defaulting to CPU. Note: This module is much faster with a GPU.\n",
            "WARNING:easyocr.easyocr:Downloading detection model, please wait. This may take several minutes depending upon your network connection.\n"
          ]
        },
        {
          "output_type": "stream",
          "name": "stdout",
          "text": [
            "Progress: |██████████████████████████████████████████████████| 100.0% Complete"
          ]
        },
        {
          "output_type": "stream",
          "name": "stderr",
          "text": [
            "WARNING:easyocr.easyocr:Downloading recognition model, please wait. This may take several minutes depending upon your network connection.\n"
          ]
        },
        {
          "output_type": "stream",
          "name": "stdout",
          "text": [
            "Progress: |██████████████████████████████████████████████████| 100.0% Complete"
          ]
        }
      ]
    },
    {
      "cell_type": "code",
      "source": [
        "docling_text"
      ],
      "metadata": {
        "colab": {
          "base_uri": "https://localhost:8080/",
          "height": 608
        },
        "id": "W6GgoY0GbkmE",
        "outputId": "9426bf9f-fdcd-49a6-d416-d15e27e068c4"
      },
      "execution_count": 3,
      "outputs": [
        {
          "output_type": "execute_result",
          "data": {
            "text/plain": [
              "\"4566\\n\\n## Avelumab first-line maintenance (1LM) for advanced urothelial carcinoma (aUC): Long-term outcomes from JAVELIN Bladder 100 in patients (pts) with low tumor burden.\\n\\nJoaquim Bellmunt, Thomas Powles, Se Hoon Park, Eric Voog, Bego ~ na P'erez Valderrama, Howard Gurney, Anders Ull'en, Yohann Loriot, Srikala S. Sridhar, Norihiko Tsuchiya, Cora N. Sternberg, Jeanny B. Aragon-Ching, Daniel P. Petrylak, Miguel A. Climent Duran, Karin Tyroller, Jason Hoffman, Natalia Jacob, Petros Grivas, Shilpa Gupta; Beth Israel Deaconess Medical Center; Harvard Medical School, Boston, MA; Barts Cancer Institute, Experimental Cancer Medicine Centre, Queen Mary University of London, St Bartholomew ' s Hospital, London, United Kingdom; Samsung Medical Center, Sungkyunkwan University School of Medicine, Seoul, South Korea; Clinique Victor Hugo, Centre Jean Bernard, Le Mans, France; Hospital Universitario Virgen del Roc' ı o, Seville, Spain; Department of Clinical Medicine, Macquarie University, Westmead, Australia; Karolinska University Hospital, Solna, Sweden; Gustave Roussy, INSERMU981, Universit'e Paris-Saclay, Villejuif, France; Princess Margaret Cancer Centre, University Health Network, Toronto, ON, Canada; Yamagata University Faculty of Medicine, Yamagata, Japan; Englander Institute for Precision Medicine, Meyer Cancer Center, New York, NY; Inova Schar Cancer Institute, Fairfax, VA; Yale Cancer Center, New Haven, CT; Instituto Valenciano de Oncolog' ı a, Valencia, Spain; EMD Serono, Billerica, MA; The Healthcare Business of Merck KGaA, Darmstadt, Germany; University of Washington, Fred Hutchinson Cancer Center, Seattle, WA; Taussig Cancer Institute, Cleveland Clinic, Cleveland, OH\\n\\nBackground: In the JAVELIN Bladder 100 phase 3 trial, avelumab 1LM + best supportive care (BSC) significantly prolonged overall survival (OS) and progression-free survival (PFS) vs BSC alone in pts with aUC that had not progressed with 1L platinum-based chemotherapy (PBC). Results led to the incorporation of avelumab 1LM into international guidelines. Prior analyses have shown that low tumor burden (eg, nonvisceral metastases or lymph node [LN]-only disease) is associated with better outcomes in pts with aUC receiving immune checkpoint inhibitors. We report post hoc analyses of efficacy and safety in subsets of pts with low tumor burden from JAVELIN Bladder 100. Methods: Eligible pts with unresectable locally advanced (LA)ormetastaticUCwithoutprogressionafter1LPBCwererandomized1:1toreceiveavelumab + BSC (n=350) or BSC alone (n=350). The primary endpoint was OS measured from randomization; secondary endpoints included PFS and safety. In this post hoc analysis, pts with nonvisceral metastases included those with LA disease or only nonvisceral disease, including bonemetastasis, at randomization. Results: In the avelumab + BSC and BSC alone arms, 159 and 159 pts had nonvisceral metastases and 51 and 51 pts had LN-only disease, of whom 42 and 35 pts had LN-only disease in the pelvic/retroperitoneal area. At the efficacy data cutoff (June 4, 2021), median follow-up was $ 38moinbotharms( $ 2yinall pts). In all subgroups, OS and PFS were prolonged with avelumab + BSC vs BSC alone (Table). Incidence of treatment-related adverse events (TRAEs) with avelumab were similar across subgroups. In the avelumab + BSC and BSC alone arms, subsequent anticancer drug treatment was received by 90 (56.6%) vs 119 pts (74.8%) with nonvisceral metastases, 27 (52.9%) vs 39 pts (76.5%) with LN-only disease, and 22 (52.4%) vs 27 pts (77.1%) with pelvic/retroperitoneal LN-only disease. Conclusions: Exploratory analyses suggest that avelumab 1LM has pronounced efficacy and manageable toxicity in pts with aUC who have low tumor burden, supporting its use as a standard of care in this setting. Clinical trial information: NCT02603432. Research Sponsor: Pfizer; the healthcare business of Merck KGaA, Darmstadt, Germany (CrossRef Funder ID: 10.13039/100009945).\\n\\n|                                | Nonvisceral Metastases   | Nonvisceral Metastases   |                      |            | Pelvic/Retroperitoneal LN-Only Disease   | Pelvic/Retroperitoneal LN-Only Disease   |\\n|--------------------------------|--------------------------|--------------------------|----------------------|------------|------------------------------------------|------------------------------------------|\\n|                                | Avelumab + BSC (n=159)   | BSC (n=159)              | Avelumab + BSC(n=51) | BSC (n=51) | Avelumab + BSC(n=42)                     | BSC (n=35)                               |\\n| Median OS,* mo (95% CI)        | 31.4                     | 17.1                     | 31.9                 | 22.7       | 31.2                                     | 20.2                                     |\\n|                                | (26.1-36.8)              | (13.7-21.3)              | (26.1-44.5)          | (16.5-NE)  | (23.8-44.5)                              | (13.7-NE)                                |\\n| Stratified HR for OS (95% CI)  | 0.60 (0.45-0.79)         |                          | 0.86 (0.51-1.47)     |            | 0.72 (0.39-1.31)                         |                                          |\\n| Median PFS by investigator,*   | 9.0                      | 3.3                      | 8.7                  | 3.7        | 7.5                                      | 3.7                                      |\\n| mo (95% CI)                    | (5.7-12.6)               | (2.0-3.7)                | (5.4-24.7)           | (2.0-6.0)  | (4.2-12.0)                               | (1.9-5.7)                                |\\n| Stratified HR for PFS (95% CI) | 0.45 (0.35-0.59)         |                          | 0.51 (0.31-0.84)     |            | 0.44 (0.24-0.79)                         |                                          |\\n| TRAEs, n (%) †                 |                          |                          |                      |            |                                          |                                          |\\n| Any grade                      | 122 (77.2)               | 2 (1.3)                  | 44 (88.0)            | 0          | 36 (87.8)                                | 0                                        |\\n| Grade ‡ 3                      | 30 (19.0)                | 0                        | 8 (16.0)             | 0          | 6 (14.6)                                 | 0                                        |\\n\\nNE, not estimable. *Measured from randomization. † Treated pts; data cutoff: April 6, 2023.\""
            ],
            "application/vnd.google.colaboratory.intrinsic+json": {
              "type": "string"
            }
          },
          "metadata": {},
          "execution_count": 3
        }
      ]
    },
    {
      "cell_type": "markdown",
      "source": [
        "## docling has produced best result for table strucutured. disdvantage : Processing speed is high"
      ],
      "metadata": {
        "id": "Zf-jjb36bwQ6"
      }
    },
    {
      "cell_type": "code",
      "source": [
        "result.document.tables"
      ],
      "metadata": {
        "colab": {
          "base_uri": "https://localhost:8080/"
        },
        "id": "twYcJIhndfBg",
        "outputId": "8c304e52-3de3-46a5-ea91-a1e09e0ecb68"
      },
      "execution_count": 6,
      "outputs": [
        {
          "output_type": "execute_result",
          "data": {
            "text/plain": [
              "[TableItem(self_ref='#/tables/0', parent=RefItem(cref='#/body'), children=[], label=<DocItemLabel.TABLE: 'table'>, prov=[ProvenanceItem(page_no=1, bbox=BoundingBox(l=35.765907287597656, t=233.16131591796875, r=357.7074279785156, b=114.63623046875, coord_origin=<CoordOrigin.BOTTOMLEFT: 'BOTTOMLEFT'>), charspan=(0, 0))], captions=[], references=[], footnotes=[], image=None, data=TableData(table_cells=[TableCell(bbox=None, row_span=1, col_span=1, start_row_offset_idx=0, end_row_offset_idx=1, start_col_offset_idx=0, end_col_offset_idx=1, text='', column_header=False, row_header=False, row_section=False), TableCell(bbox=BoundingBox(l=132.3780059814453, t=222.6110076904297, r=207.5880126953125, b=215.81800842285156, coord_origin=<CoordOrigin.BOTTOMLEFT: 'BOTTOMLEFT'>), row_span=1, col_span=2, start_row_offset_idx=0, end_row_offset_idx=1, start_col_offset_idx=1, end_col_offset_idx=3, text='Nonvisceral Metastases', column_header=True, row_header=False, row_section=False), TableCell(bbox=None, row_span=1, col_span=1, start_row_offset_idx=0, end_row_offset_idx=1, start_col_offset_idx=3, end_col_offset_idx=4, text='', column_header=False, row_header=False, row_section=False), TableCell(bbox=None, row_span=1, col_span=1, start_row_offset_idx=0, end_row_offset_idx=1, start_col_offset_idx=4, end_col_offset_idx=5, text='', column_header=False, row_header=False, row_section=False), TableCell(bbox=BoundingBox(l=286.7530212402344, t=230.09500122070312, r=356.5140075683594, b=215.81800842285156, coord_origin=<CoordOrigin.BOTTOMLEFT: 'BOTTOMLEFT'>), row_span=1, col_span=2, start_row_offset_idx=0, end_row_offset_idx=1, start_col_offset_idx=5, end_col_offset_idx=7, text='Pelvic/Retroperitoneal LN-Only Disease', column_header=True, row_header=False, row_section=False), TableCell(bbox=None, row_span=1, col_span=1, start_row_offset_idx=1, end_row_offset_idx=2, start_col_offset_idx=0, end_col_offset_idx=1, text='', column_header=False, row_header=False, row_section=False), TableCell(bbox=BoundingBox(l=131.41400146484375, t=211.49900817871094, r=168.46900939941406, b=189.73899841308594, coord_origin=<CoordOrigin.BOTTOMLEFT: 'BOTTOMLEFT'>), row_span=1, col_span=1, start_row_offset_idx=1, end_row_offset_idx=2, start_col_offset_idx=1, end_col_offset_idx=2, text='Avelumab + BSC (n=159)', column_header=True, row_header=False, row_section=False), TableCell(bbox=BoundingBox(l=178.8090057373047, t=204.01499938964844, r=203.47401428222656, b=189.73899841308594, coord_origin=<CoordOrigin.BOTTOMLEFT: 'BOTTOMLEFT'>), row_span=1, col_span=1, start_row_offset_idx=1, end_row_offset_idx=2, start_col_offset_idx=2, end_col_offset_idx=3, text='BSC (n=159)', column_header=True, row_header=False, row_section=False), TableCell(bbox=BoundingBox(l=212.25901794433594, t=211.49900817871094, r=247.44700622558594, b=189.73899841308594, coord_origin=<CoordOrigin.BOTTOMLEFT: 'BOTTOMLEFT'>), row_span=1, col_span=1, start_row_offset_idx=1, end_row_offset_idx=2, start_col_offset_idx=3, end_col_offset_idx=4, text='Avelumab + BSC(n=51)', column_header=True, row_header=False, row_section=False), TableCell(bbox=BoundingBox(l=256.30902099609375, t=204.01499938964844, r=276.9840087890625, b=189.73899841308594, coord_origin=<CoordOrigin.BOTTOMLEFT: 'BOTTOMLEFT'>), row_span=1, col_span=1, start_row_offset_idx=1, end_row_offset_idx=2, start_col_offset_idx=4, end_col_offset_idx=5, text='BSC (n=51)', column_header=True, row_header=False, row_section=False), TableCell(bbox=BoundingBox(l=285.8470153808594, t=211.49900817871094, r=321.0350036621094, b=189.73899841308594, coord_origin=<CoordOrigin.BOTTOMLEFT: 'BOTTOMLEFT'>), row_span=1, col_span=1, start_row_offset_idx=1, end_row_offset_idx=2, start_col_offset_idx=5, end_col_offset_idx=6, text='Avelumab + BSC(n=42)', column_header=True, row_header=False, row_section=False), TableCell(bbox=BoundingBox(l=329.89801025390625, t=204.01499938964844, r=350.572021484375, b=189.73899841308594, coord_origin=<CoordOrigin.BOTTOMLEFT: 'BOTTOMLEFT'>), row_span=1, col_span=1, start_row_offset_idx=1, end_row_offset_idx=2, start_col_offset_idx=6, end_col_offset_idx=7, text='BSC (n=35)', column_header=True, row_header=False, row_section=False), TableCell(bbox=BoundingBox(l=36.96500015258789, t=185.19300842285156, r=117.19600677490234, b=178.4010009765625, coord_origin=<CoordOrigin.BOTTOMLEFT: 'BOTTOMLEFT'>), row_span=1, col_span=1, start_row_offset_idx=2, end_row_offset_idx=3, start_col_offset_idx=0, end_col_offset_idx=1, text='Median OS,* mo (95% CI)', column_header=False, row_header=True, row_section=False), TableCell(bbox=BoundingBox(l=143.1510009765625, t=185.19300842285156, r=156.72500610351562, b=178.4010009765625, coord_origin=<CoordOrigin.BOTTOMLEFT: 'BOTTOMLEFT'>), row_span=1, col_span=1, start_row_offset_idx=2, end_row_offset_idx=3, start_col_offset_idx=1, end_col_offset_idx=2, text='31.4', column_header=False, row_header=False, row_section=False), TableCell(bbox=BoundingBox(l=184.36700439453125, t=185.19300842285156, r=197.94100952148438, b=178.4010009765625, coord_origin=<CoordOrigin.BOTTOMLEFT: 'BOTTOMLEFT'>), row_span=1, col_span=1, start_row_offset_idx=2, end_row_offset_idx=3, start_col_offset_idx=2, end_col_offset_idx=3, text='17.1', column_header=False, row_header=False, row_section=False), TableCell(bbox=BoundingBox(l=223.0880126953125, t=185.19300842285156, r=236.66201782226562, b=178.4010009765625, coord_origin=<CoordOrigin.BOTTOMLEFT: 'BOTTOMLEFT'>), row_span=1, col_span=1, start_row_offset_idx=2, end_row_offset_idx=3, start_col_offset_idx=3, end_col_offset_idx=4, text='31.9', column_header=False, row_header=False, row_section=False), TableCell(bbox=BoundingBox(l=259.88201904296875, t=185.19300842285156, r=273.4560241699219, b=178.4010009765625, coord_origin=<CoordOrigin.BOTTOMLEFT: 'BOTTOMLEFT'>), row_span=1, col_span=1, start_row_offset_idx=2, end_row_offset_idx=3, start_col_offset_idx=4, end_col_offset_idx=5, text='22.7', column_header=False, row_header=False, row_section=False), TableCell(bbox=BoundingBox(l=296.676025390625, t=185.19300842285156, r=310.2500305175781, b=178.4010009765625, coord_origin=<CoordOrigin.BOTTOMLEFT: 'BOTTOMLEFT'>), row_span=1, col_span=1, start_row_offset_idx=2, end_row_offset_idx=3, start_col_offset_idx=5, end_col_offset_idx=6, text='31.2', column_header=False, row_header=False, row_section=False), TableCell(bbox=BoundingBox(l=333.47003173828125, t=185.19300842285156, r=347.04302978515625, b=178.4010009765625, coord_origin=<CoordOrigin.BOTTOMLEFT: 'BOTTOMLEFT'>), row_span=1, col_span=1, start_row_offset_idx=2, end_row_offset_idx=3, start_col_offset_idx=6, end_col_offset_idx=7, text='20.2', column_header=False, row_header=False, row_section=False), TableCell(bbox=None, row_span=1, col_span=1, start_row_offset_idx=3, end_row_offset_idx=4, start_col_offset_idx=0, end_col_offset_idx=1, text='', column_header=False, row_header=False, row_section=False), TableCell(bbox=BoundingBox(l=133.1160125732422, t=177.70899963378906, r=166.71701049804688, b=170.91700744628906, coord_origin=<CoordOrigin.BOTTOMLEFT: 'BOTTOMLEFT'>), row_span=1, col_span=1, start_row_offset_idx=3, end_row_offset_idx=4, start_col_offset_idx=1, end_col_offset_idx=2, text='(26.1-36.8)', column_header=False, row_header=False, row_section=False), TableCell(bbox=BoundingBox(l=174.33201599121094, t=177.70899963378906, r=207.93301391601562, b=170.91700744628906, coord_origin=<CoordOrigin.BOTTOMLEFT: 'BOTTOMLEFT'>), row_span=1, col_span=1, start_row_offset_idx=3, end_row_offset_idx=4, start_col_offset_idx=2, end_col_offset_idx=3, text='(13.7-21.3)', column_header=False, row_header=False, row_section=False), TableCell(bbox=BoundingBox(l=213.05401611328125, t=177.70899963378906, r=246.6540069580078, b=170.91700744628906, coord_origin=<CoordOrigin.BOTTOMLEFT: 'BOTTOMLEFT'>), row_span=1, col_span=1, start_row_offset_idx=3, end_row_offset_idx=4, start_col_offset_idx=3, end_col_offset_idx=4, text='(26.1-44.5)', column_header=False, row_header=False, row_section=False), TableCell(bbox=BoundingBox(l=252.11502075195312, t=177.70899963378906, r=281.1460266113281, b=170.91700744628906, coord_origin=<CoordOrigin.BOTTOMLEFT: 'BOTTOMLEFT'>), row_span=1, col_span=1, start_row_offset_idx=3, end_row_offset_idx=4, start_col_offset_idx=4, end_col_offset_idx=5, text='(16.5-NE)', column_header=False, row_header=False, row_section=False), TableCell(bbox=BoundingBox(l=286.6410217285156, t=177.70899963378906, r=320.24200439453125, b=170.91700744628906, coord_origin=<CoordOrigin.BOTTOMLEFT: 'BOTTOMLEFT'>), row_span=1, col_span=1, start_row_offset_idx=3, end_row_offset_idx=4, start_col_offset_idx=5, end_col_offset_idx=6, text='(23.8-44.5)', column_header=False, row_header=False, row_section=False), TableCell(bbox=BoundingBox(l=325.7030029296875, t=177.70899963378906, r=354.8280334472656, b=170.91700744628906, coord_origin=<CoordOrigin.BOTTOMLEFT: 'BOTTOMLEFT'>), row_span=1, col_span=1, start_row_offset_idx=3, end_row_offset_idx=4, start_col_offset_idx=6, end_col_offset_idx=7, text='(13.7-NE)', column_header=False, row_header=False, row_section=False), TableCell(bbox=BoundingBox(l=36.96600341796875, t=170.2259979248047, r=127.74400329589844, b=163.43299865722656, coord_origin=<CoordOrigin.BOTTOMLEFT: 'BOTTOMLEFT'>), row_span=1, col_span=1, start_row_offset_idx=4, end_row_offset_idx=5, start_col_offset_idx=0, end_col_offset_idx=1, text='Stratified HR for OS (95% CI)', column_header=False, row_header=True, row_section=False), TableCell(bbox=BoundingBox(l=145.24900817871094, t=170.2259979248047, r=194.72500610351562, b=163.43299865722656, coord_origin=<CoordOrigin.BOTTOMLEFT: 'BOTTOMLEFT'>), row_span=1, col_span=1, start_row_offset_idx=4, end_row_offset_idx=5, start_col_offset_idx=1, end_col_offset_idx=2, text='0.60 (0.45-0.79)', column_header=False, row_header=False, row_section=False), TableCell(bbox=None, row_span=1, col_span=1, start_row_offset_idx=4, end_row_offset_idx=5, start_col_offset_idx=2, end_col_offset_idx=3, text='', column_header=False, row_header=False, row_section=False), TableCell(bbox=BoundingBox(l=223.32000732421875, t=170.2259979248047, r=272.8310241699219, b=163.43299865722656, coord_origin=<CoordOrigin.BOTTOMLEFT: 'BOTTOMLEFT'>), row_span=1, col_span=1, start_row_offset_idx=4, end_row_offset_idx=5, start_col_offset_idx=3, end_col_offset_idx=4, text='0.86 (0.51-1.47)', column_header=False, row_header=False, row_section=False), TableCell(bbox=None, row_span=1, col_span=1, start_row_offset_idx=4, end_row_offset_idx=5, start_col_offset_idx=4, end_col_offset_idx=5, text='', column_header=False, row_header=False, row_section=False), TableCell(bbox=BoundingBox(l=296.9120178222656, t=170.2259979248047, r=346.4230041503906, b=163.43299865722656, coord_origin=<CoordOrigin.BOTTOMLEFT: 'BOTTOMLEFT'>), row_span=1, col_span=1, start_row_offset_idx=4, end_row_offset_idx=5, start_col_offset_idx=5, end_col_offset_idx=6, text='0.72 (0.39-1.31)', column_header=False, row_header=False, row_section=False), TableCell(bbox=None, row_span=1, col_span=1, start_row_offset_idx=4, end_row_offset_idx=5, start_col_offset_idx=6, end_col_offset_idx=7, text='', column_header=False, row_header=False, row_section=False), TableCell(bbox=BoundingBox(l=36.96600341796875, t=162.79901123046875, r=127.69800567626953, b=156.00601196289062, coord_origin=<CoordOrigin.BOTTOMLEFT: 'BOTTOMLEFT'>), row_span=1, col_span=1, start_row_offset_idx=5, end_row_offset_idx=6, start_col_offset_idx=0, end_col_offset_idx=1, text='Median PFS by investigator,*', column_header=False, row_header=True, row_section=False), TableCell(bbox=BoundingBox(l=145.07901000976562, t=162.79901123046875, r=154.73300170898438, b=156.00601196289062, coord_origin=<CoordOrigin.BOTTOMLEFT: 'BOTTOMLEFT'>), row_span=1, col_span=1, start_row_offset_idx=5, end_row_offset_idx=6, start_col_offset_idx=1, end_col_offset_idx=2, text='9.0', column_header=False, row_header=False, row_section=False), TableCell(bbox=BoundingBox(l=186.3520050048828, t=162.79901123046875, r=196.0050048828125, b=156.00601196289062, coord_origin=<CoordOrigin.BOTTOMLEFT: 'BOTTOMLEFT'>), row_span=1, col_span=1, start_row_offset_idx=5, end_row_offset_idx=6, start_col_offset_idx=2, end_col_offset_idx=3, text='3.3', column_header=False, row_header=False, row_section=False), TableCell(bbox=BoundingBox(l=225.01600646972656, t=162.79901123046875, r=234.67001342773438, b=156.00601196289062, coord_origin=<CoordOrigin.BOTTOMLEFT: 'BOTTOMLEFT'>), row_span=1, col_span=1, start_row_offset_idx=5, end_row_offset_idx=6, start_col_offset_idx=3, end_col_offset_idx=4, text='8.7', column_header=False, row_header=False, row_section=False), TableCell(bbox=BoundingBox(l=261.8100280761719, t=162.79901123046875, r=271.4640197753906, b=156.00601196289062, coord_origin=<CoordOrigin.BOTTOMLEFT: 'BOTTOMLEFT'>), row_span=1, col_span=1, start_row_offset_idx=5, end_row_offset_idx=6, start_col_offset_idx=4, end_col_offset_idx=5, text='3.7', column_header=False, row_header=False, row_section=False), TableCell(bbox=BoundingBox(l=298.60400390625, t=162.79901123046875, r=308.2580261230469, b=156.00601196289062, coord_origin=<CoordOrigin.BOTTOMLEFT: 'BOTTOMLEFT'>), row_span=1, col_span=1, start_row_offset_idx=5, end_row_offset_idx=6, start_col_offset_idx=5, end_col_offset_idx=6, text='7.5', column_header=False, row_header=False, row_section=False), TableCell(bbox=BoundingBox(l=335.4540100097656, t=162.79901123046875, r=345.1080322265625, b=156.00601196289062, coord_origin=<CoordOrigin.BOTTOMLEFT: 'BOTTOMLEFT'>), row_span=1, col_span=1, start_row_offset_idx=5, end_row_offset_idx=6, start_col_offset_idx=6, end_col_offset_idx=7, text='3.7', column_header=False, row_header=False, row_section=False), TableCell(bbox=BoundingBox(l=43.939002990722656, t=155.31500244140625, r=82.72600555419922, b=148.52301025390625, coord_origin=<CoordOrigin.BOTTOMLEFT: 'BOTTOMLEFT'>), row_span=1, col_span=1, start_row_offset_idx=6, end_row_offset_idx=7, start_col_offset_idx=0, end_col_offset_idx=1, text='mo (95% CI)', column_header=False, row_header=True, row_section=False), TableCell(bbox=BoundingBox(l=135.04501342773438, t=155.31500244140625, r=164.81700134277344, b=148.52301025390625, coord_origin=<CoordOrigin.BOTTOMLEFT: 'BOTTOMLEFT'>), row_span=1, col_span=1, start_row_offset_idx=6, end_row_offset_idx=7, start_col_offset_idx=1, end_col_offset_idx=2, text='(5.7-12.6)', column_header=False, row_header=False, row_section=False), TableCell(bbox=BoundingBox(l=178.24501037597656, t=155.31500244140625, r=204.0760040283203, b=148.52301025390625, coord_origin=<CoordOrigin.BOTTOMLEFT: 'BOTTOMLEFT'>), row_span=1, col_span=1, start_row_offset_idx=6, end_row_offset_idx=7, start_col_offset_idx=2, end_col_offset_idx=3, text='(2.0-3.7)', column_header=False, row_header=False, row_section=False), TableCell(bbox=BoundingBox(l=214.9820098876953, t=155.31500244140625, r=244.75401306152344, b=148.52301025390625, coord_origin=<CoordOrigin.BOTTOMLEFT: 'BOTTOMLEFT'>), row_span=1, col_span=1, start_row_offset_idx=6, end_row_offset_idx=7, start_col_offset_idx=3, end_col_offset_idx=4, text='(5.4-24.7)', column_header=False, row_header=False, row_section=False), TableCell(bbox=BoundingBox(l=253.760009765625, t=155.31500244140625, r=279.52001953125, b=148.52301025390625, coord_origin=<CoordOrigin.BOTTOMLEFT: 'BOTTOMLEFT'>), row_span=1, col_span=1, start_row_offset_idx=6, end_row_offset_idx=7, start_col_offset_idx=4, end_col_offset_idx=5, text='(2.0-6.0)', column_header=False, row_header=False, row_section=False), TableCell(bbox=BoundingBox(l=288.5690002441406, t=155.31500244140625, r=318.3210144042969, b=148.52301025390625, coord_origin=<CoordOrigin.BOTTOMLEFT: 'BOTTOMLEFT'>), row_span=1, col_span=1, start_row_offset_idx=6, end_row_offset_idx=7, start_col_offset_idx=5, end_col_offset_idx=6, text='(4.2-12.0)', column_header=False, row_header=False, row_section=False), TableCell(bbox=BoundingBox(l=327.3470153808594, t=155.31500244140625, r=353.19500732421875, b=148.52301025390625, coord_origin=<CoordOrigin.BOTTOMLEFT: 'BOTTOMLEFT'>), row_span=1, col_span=1, start_row_offset_idx=6, end_row_offset_idx=7, start_col_offset_idx=6, end_col_offset_idx=7, text='(1.9-5.7)', column_header=False, row_header=False, row_section=False), TableCell(bbox=BoundingBox(l=36.96600341796875, t=147.83200073242188, r=127.74400329589844, b=141.03900146484375, coord_origin=<CoordOrigin.BOTTOMLEFT: 'BOTTOMLEFT'>), row_span=1, col_span=1, start_row_offset_idx=7, end_row_offset_idx=8, start_col_offset_idx=0, end_col_offset_idx=1, text='Stratified HR for PFS (95% CI)', column_header=False, row_header=True, row_section=False), TableCell(bbox=BoundingBox(l=145.24900817871094, t=147.83200073242188, r=194.72500610351562, b=141.03900146484375, coord_origin=<CoordOrigin.BOTTOMLEFT: 'BOTTOMLEFT'>), row_span=1, col_span=1, start_row_offset_idx=7, end_row_offset_idx=8, start_col_offset_idx=1, end_col_offset_idx=2, text='0.45 (0.35-0.59)', column_header=False, row_header=False, row_section=False), TableCell(bbox=None, row_span=1, col_span=1, start_row_offset_idx=7, end_row_offset_idx=8, start_col_offset_idx=2, end_col_offset_idx=3, text='', column_header=False, row_header=False, row_section=False), TableCell(bbox=BoundingBox(l=223.32000732421875, t=147.83200073242188, r=272.8310241699219, b=141.03900146484375, coord_origin=<CoordOrigin.BOTTOMLEFT: 'BOTTOMLEFT'>), row_span=1, col_span=1, start_row_offset_idx=7, end_row_offset_idx=8, start_col_offset_idx=3, end_col_offset_idx=4, text='0.51 (0.31-0.84)', column_header=False, row_header=False, row_section=False), TableCell(bbox=None, row_span=1, col_span=1, start_row_offset_idx=7, end_row_offset_idx=8, start_col_offset_idx=4, end_col_offset_idx=5, text='', column_header=False, row_header=False, row_section=False), TableCell(bbox=BoundingBox(l=296.9120178222656, t=147.83200073242188, r=346.4230041503906, b=141.03900146484375, coord_origin=<CoordOrigin.BOTTOMLEFT: 'BOTTOMLEFT'>), row_span=1, col_span=1, start_row_offset_idx=7, end_row_offset_idx=8, start_col_offset_idx=5, end_col_offset_idx=6, text='0.44 (0.24-0.79)', column_header=False, row_header=False, row_section=False), TableCell(bbox=None, row_span=1, col_span=1, start_row_offset_idx=7, end_row_offset_idx=8, start_col_offset_idx=6, end_col_offset_idx=7, text='', column_header=False, row_header=False, row_section=False), TableCell(bbox=BoundingBox(l=36.96600341796875, t=141.69300842285156, r=80.2760009765625, b=133.55599975585938, coord_origin=<CoordOrigin.BOTTOMLEFT: 'BOTTOMLEFT'>), row_span=1, col_span=1, start_row_offset_idx=8, end_row_offset_idx=9, start_col_offset_idx=0, end_col_offset_idx=1, text='TRAEs, n (%) †', column_header=False, row_header=True, row_section=False), TableCell(bbox=None, row_span=1, col_span=1, start_row_offset_idx=8, end_row_offset_idx=9, start_col_offset_idx=1, end_col_offset_idx=2, text='', column_header=False, row_header=False, row_section=False), TableCell(bbox=None, row_span=1, col_span=1, start_row_offset_idx=8, end_row_offset_idx=9, start_col_offset_idx=2, end_col_offset_idx=3, text='', column_header=False, row_header=False, row_section=False), TableCell(bbox=None, row_span=1, col_span=1, start_row_offset_idx=8, end_row_offset_idx=9, start_col_offset_idx=3, end_col_offset_idx=4, text='', column_header=False, row_header=False, row_section=False), TableCell(bbox=None, row_span=1, col_span=1, start_row_offset_idx=8, end_row_offset_idx=9, start_col_offset_idx=4, end_col_offset_idx=5, text='', column_header=False, row_header=False, row_section=False), TableCell(bbox=None, row_span=1, col_span=1, start_row_offset_idx=8, end_row_offset_idx=9, start_col_offset_idx=5, end_col_offset_idx=6, text='', column_header=False, row_header=False, row_section=False), TableCell(bbox=None, row_span=1, col_span=1, start_row_offset_idx=8, end_row_offset_idx=9, start_col_offset_idx=6, end_col_offset_idx=7, text='', column_header=False, row_header=False, row_section=False), TableCell(bbox=BoundingBox(l=43.93700408935547, t=132.86599731445312, r=75.67400360107422, b=126.07400512695312, coord_origin=<CoordOrigin.BOTTOMLEFT: 'BOTTOMLEFT'>), row_span=1, col_span=1, start_row_offset_idx=9, end_row_offset_idx=10, start_col_offset_idx=0, end_col_offset_idx=1, text='Any grade', column_header=False, row_header=True, row_section=False), TableCell(bbox=BoundingBox(l=133.8520050048828, t=132.86599731445312, r=165.99900817871094, b=126.07400512695312, coord_origin=<CoordOrigin.BOTTOMLEFT: 'BOTTOMLEFT'>), row_span=1, col_span=1, start_row_offset_idx=9, end_row_offset_idx=10, start_col_offset_idx=1, end_col_offset_idx=2, text='122 (77.2)', column_header=False, row_header=False, row_section=False), TableCell(bbox=BoundingBox(l=180.96400451660156, t=132.86599731445312, r=201.3660125732422, b=126.07400512695312, coord_origin=<CoordOrigin.BOTTOMLEFT: 'BOTTOMLEFT'>), row_span=1, col_span=1, start_row_offset_idx=9, end_row_offset_idx=10, start_col_offset_idx=2, end_col_offset_idx=3, text='2 (1.3)', column_header=False, row_header=False, row_section=False), TableCell(bbox=BoundingBox(l=215.71701049804688, t=132.86599731445312, r=243.95201110839844, b=126.07400512695312, coord_origin=<CoordOrigin.BOTTOMLEFT: 'BOTTOMLEFT'>), row_span=1, col_span=1, start_row_offset_idx=9, end_row_offset_idx=10, start_col_offset_idx=3, end_col_offset_idx=4, text='44 (88.0)', column_header=False, row_header=False, row_section=False), TableCell(bbox=BoundingBox(l=264.70001220703125, t=132.86599731445312, r=268.6190185546875, b=126.07400512695312, coord_origin=<CoordOrigin.BOTTOMLEFT: 'BOTTOMLEFT'>), row_span=1, col_span=1, start_row_offset_idx=9, end_row_offset_idx=10, start_col_offset_idx=4, end_col_offset_idx=5, text='0', column_header=False, row_header=False, row_section=False), TableCell(bbox=BoundingBox(l=289.3050231933594, t=132.86599731445312, r=317.5390319824219, b=126.07400512695312, coord_origin=<CoordOrigin.BOTTOMLEFT: 'BOTTOMLEFT'>), row_span=1, col_span=1, start_row_offset_idx=9, end_row_offset_idx=10, start_col_offset_idx=5, end_col_offset_idx=6, text='36 (87.8)', column_header=False, row_header=False, row_section=False), TableCell(bbox=BoundingBox(l=338.2870178222656, t=132.86599731445312, r=342.2060241699219, b=126.07400512695312, coord_origin=<CoordOrigin.BOTTOMLEFT: 'BOTTOMLEFT'>), row_span=1, col_span=1, start_row_offset_idx=9, end_row_offset_idx=10, start_col_offset_idx=6, end_col_offset_idx=7, text='0', column_header=False, row_header=False, row_section=False), TableCell(bbox=BoundingBox(l=43.93700408935547, t=127.02900695800781, r=72.70100402832031, b=118.2490005493164, coord_origin=<CoordOrigin.BOTTOMLEFT: 'BOTTOMLEFT'>), row_span=1, col_span=1, start_row_offset_idx=10, end_row_offset_idx=11, start_col_offset_idx=0, end_col_offset_idx=1, text='Grade ‡ 3', column_header=False, row_header=True, row_section=False), TableCell(bbox=BoundingBox(l=135.78001403808594, t=125.43900299072266, r=164.0150146484375, b=118.64600372314453, coord_origin=<CoordOrigin.BOTTOMLEFT: 'BOTTOMLEFT'>), row_span=1, col_span=1, start_row_offset_idx=10, end_row_offset_idx=11, start_col_offset_idx=1, end_col_offset_idx=2, text='30 (19.0)', column_header=False, row_header=False, row_section=False), TableCell(bbox=BoundingBox(l=189.1850128173828, t=125.43900299072266, r=193.10400390625, b=118.64600372314453, coord_origin=<CoordOrigin.BOTTOMLEFT: 'BOTTOMLEFT'>), row_span=1, col_span=1, start_row_offset_idx=10, end_row_offset_idx=11, start_col_offset_idx=2, end_col_offset_idx=3, text='0', column_header=False, row_header=False, row_section=False), TableCell(bbox=BoundingBox(l=217.7010040283203, t=125.43900299072266, r=242.02301025390625, b=118.64600372314453, coord_origin=<CoordOrigin.BOTTOMLEFT: 'BOTTOMLEFT'>), row_span=1, col_span=1, start_row_offset_idx=10, end_row_offset_idx=11, start_col_offset_idx=3, end_col_offset_idx=4, text='8 (16.0)', column_header=False, row_header=False, row_section=False), TableCell(bbox=BoundingBox(l=264.70001220703125, t=125.43900299072266, r=268.6190185546875, b=118.64600372314453, coord_origin=<CoordOrigin.BOTTOMLEFT: 'BOTTOMLEFT'>), row_span=1, col_span=1, start_row_offset_idx=10, end_row_offset_idx=11, start_col_offset_idx=4, end_col_offset_idx=5, text='0', column_header=False, row_header=False, row_section=False), TableCell(bbox=BoundingBox(l=291.28900146484375, t=125.43900299072266, r=315.6100158691406, b=118.64600372314453, coord_origin=<CoordOrigin.BOTTOMLEFT: 'BOTTOMLEFT'>), row_span=1, col_span=1, start_row_offset_idx=10, end_row_offset_idx=11, start_col_offset_idx=5, end_col_offset_idx=6, text='6 (14.6)', column_header=False, row_header=False, row_section=False), TableCell(bbox=BoundingBox(l=338.2870178222656, t=125.43900299072266, r=342.2060241699219, b=118.64600372314453, coord_origin=<CoordOrigin.BOTTOMLEFT: 'BOTTOMLEFT'>), row_span=1, col_span=1, start_row_offset_idx=10, end_row_offset_idx=11, start_col_offset_idx=6, end_col_offset_idx=7, text='0', column_header=False, row_header=False, row_section=False)], num_rows=11, num_cols=7, grid=[[TableCell(bbox=None, row_span=1, col_span=1, start_row_offset_idx=0, end_row_offset_idx=1, start_col_offset_idx=0, end_col_offset_idx=1, text='', column_header=False, row_header=False, row_section=False), TableCell(bbox=BoundingBox(l=132.3780059814453, t=222.6110076904297, r=207.5880126953125, b=215.81800842285156, coord_origin=<CoordOrigin.BOTTOMLEFT: 'BOTTOMLEFT'>), row_span=1, col_span=2, start_row_offset_idx=0, end_row_offset_idx=1, start_col_offset_idx=1, end_col_offset_idx=3, text='Nonvisceral Metastases', column_header=True, row_header=False, row_section=False), TableCell(bbox=BoundingBox(l=132.3780059814453, t=222.6110076904297, r=207.5880126953125, b=215.81800842285156, coord_origin=<CoordOrigin.BOTTOMLEFT: 'BOTTOMLEFT'>), row_span=1, col_span=2, start_row_offset_idx=0, end_row_offset_idx=1, start_col_offset_idx=1, end_col_offset_idx=3, text='Nonvisceral Metastases', column_header=True, row_header=False, row_section=False), TableCell(bbox=None, row_span=1, col_span=1, start_row_offset_idx=0, end_row_offset_idx=1, start_col_offset_idx=3, end_col_offset_idx=4, text='', column_header=False, row_header=False, row_section=False), TableCell(bbox=None, row_span=1, col_span=1, start_row_offset_idx=0, end_row_offset_idx=1, start_col_offset_idx=4, end_col_offset_idx=5, text='', column_header=False, row_header=False, row_section=False), TableCell(bbox=BoundingBox(l=286.7530212402344, t=230.09500122070312, r=356.5140075683594, b=215.81800842285156, coord_origin=<CoordOrigin.BOTTOMLEFT: 'BOTTOMLEFT'>), row_span=1, col_span=2, start_row_offset_idx=0, end_row_offset_idx=1, start_col_offset_idx=5, end_col_offset_idx=7, text='Pelvic/Retroperitoneal LN-Only Disease', column_header=True, row_header=False, row_section=False), TableCell(bbox=BoundingBox(l=286.7530212402344, t=230.09500122070312, r=356.5140075683594, b=215.81800842285156, coord_origin=<CoordOrigin.BOTTOMLEFT: 'BOTTOMLEFT'>), row_span=1, col_span=2, start_row_offset_idx=0, end_row_offset_idx=1, start_col_offset_idx=5, end_col_offset_idx=7, text='Pelvic/Retroperitoneal LN-Only Disease', column_header=True, row_header=False, row_section=False)], [TableCell(bbox=None, row_span=1, col_span=1, start_row_offset_idx=1, end_row_offset_idx=2, start_col_offset_idx=0, end_col_offset_idx=1, text='', column_header=False, row_header=False, row_section=False), TableCell(bbox=BoundingBox(l=131.41400146484375, t=211.49900817871094, r=168.46900939941406, b=189.73899841308594, coord_origin=<CoordOrigin.BOTTOMLEFT: 'BOTTOMLEFT'>), row_span=1, col_span=1, start_row_offset_idx=1, end_row_offset_idx=2, start_col_offset_idx=1, end_col_offset_idx=2, text='Avelumab + BSC (n=159)', column_header=True, row_header=False, row_section=False), TableCell(bbox=BoundingBox(l=178.8090057373047, t=204.01499938964844, r=203.47401428222656, b=189.73899841308594, coord_origin=<CoordOrigin.BOTTOMLEFT: 'BOTTOMLEFT'>), row_span=1, col_span=1, start_row_offset_idx=1, end_row_offset_idx=2, start_col_offset_idx=2, end_col_offset_idx=3, text='BSC (n=159)', column_header=True, row_header=False, row_section=False), TableCell(bbox=BoundingBox(l=212.25901794433594, t=211.49900817871094, r=247.44700622558594, b=189.73899841308594, coord_origin=<CoordOrigin.BOTTOMLEFT: 'BOTTOMLEFT'>), row_span=1, col_span=1, start_row_offset_idx=1, end_row_offset_idx=2, start_col_offset_idx=3, end_col_offset_idx=4, text='Avelumab + BSC(n=51)', column_header=True, row_header=False, row_section=False), TableCell(bbox=BoundingBox(l=256.30902099609375, t=204.01499938964844, r=276.9840087890625, b=189.73899841308594, coord_origin=<CoordOrigin.BOTTOMLEFT: 'BOTTOMLEFT'>), row_span=1, col_span=1, start_row_offset_idx=1, end_row_offset_idx=2, start_col_offset_idx=4, end_col_offset_idx=5, text='BSC (n=51)', column_header=True, row_header=False, row_section=False), TableCell(bbox=BoundingBox(l=285.8470153808594, t=211.49900817871094, r=321.0350036621094, b=189.73899841308594, coord_origin=<CoordOrigin.BOTTOMLEFT: 'BOTTOMLEFT'>), row_span=1, col_span=1, start_row_offset_idx=1, end_row_offset_idx=2, start_col_offset_idx=5, end_col_offset_idx=6, text='Avelumab + BSC(n=42)', column_header=True, row_header=False, row_section=False), TableCell(bbox=BoundingBox(l=329.89801025390625, t=204.01499938964844, r=350.572021484375, b=189.73899841308594, coord_origin=<CoordOrigin.BOTTOMLEFT: 'BOTTOMLEFT'>), row_span=1, col_span=1, start_row_offset_idx=1, end_row_offset_idx=2, start_col_offset_idx=6, end_col_offset_idx=7, text='BSC (n=35)', column_header=True, row_header=False, row_section=False)], [TableCell(bbox=BoundingBox(l=36.96500015258789, t=185.19300842285156, r=117.19600677490234, b=178.4010009765625, coord_origin=<CoordOrigin.BOTTOMLEFT: 'BOTTOMLEFT'>), row_span=1, col_span=1, start_row_offset_idx=2, end_row_offset_idx=3, start_col_offset_idx=0, end_col_offset_idx=1, text='Median OS,* mo (95% CI)', column_header=False, row_header=True, row_section=False), TableCell(bbox=BoundingBox(l=143.1510009765625, t=185.19300842285156, r=156.72500610351562, b=178.4010009765625, coord_origin=<CoordOrigin.BOTTOMLEFT: 'BOTTOMLEFT'>), row_span=1, col_span=1, start_row_offset_idx=2, end_row_offset_idx=3, start_col_offset_idx=1, end_col_offset_idx=2, text='31.4', column_header=False, row_header=False, row_section=False), TableCell(bbox=BoundingBox(l=184.36700439453125, t=185.19300842285156, r=197.94100952148438, b=178.4010009765625, coord_origin=<CoordOrigin.BOTTOMLEFT: 'BOTTOMLEFT'>), row_span=1, col_span=1, start_row_offset_idx=2, end_row_offset_idx=3, start_col_offset_idx=2, end_col_offset_idx=3, text='17.1', column_header=False, row_header=False, row_section=False), TableCell(bbox=BoundingBox(l=223.0880126953125, t=185.19300842285156, r=236.66201782226562, b=178.4010009765625, coord_origin=<CoordOrigin.BOTTOMLEFT: 'BOTTOMLEFT'>), row_span=1, col_span=1, start_row_offset_idx=2, end_row_offset_idx=3, start_col_offset_idx=3, end_col_offset_idx=4, text='31.9', column_header=False, row_header=False, row_section=False), TableCell(bbox=BoundingBox(l=259.88201904296875, t=185.19300842285156, r=273.4560241699219, b=178.4010009765625, coord_origin=<CoordOrigin.BOTTOMLEFT: 'BOTTOMLEFT'>), row_span=1, col_span=1, start_row_offset_idx=2, end_row_offset_idx=3, start_col_offset_idx=4, end_col_offset_idx=5, text='22.7', column_header=False, row_header=False, row_section=False), TableCell(bbox=BoundingBox(l=296.676025390625, t=185.19300842285156, r=310.2500305175781, b=178.4010009765625, coord_origin=<CoordOrigin.BOTTOMLEFT: 'BOTTOMLEFT'>), row_span=1, col_span=1, start_row_offset_idx=2, end_row_offset_idx=3, start_col_offset_idx=5, end_col_offset_idx=6, text='31.2', column_header=False, row_header=False, row_section=False), TableCell(bbox=BoundingBox(l=333.47003173828125, t=185.19300842285156, r=347.04302978515625, b=178.4010009765625, coord_origin=<CoordOrigin.BOTTOMLEFT: 'BOTTOMLEFT'>), row_span=1, col_span=1, start_row_offset_idx=2, end_row_offset_idx=3, start_col_offset_idx=6, end_col_offset_idx=7, text='20.2', column_header=False, row_header=False, row_section=False)], [TableCell(bbox=None, row_span=1, col_span=1, start_row_offset_idx=3, end_row_offset_idx=4, start_col_offset_idx=0, end_col_offset_idx=1, text='', column_header=False, row_header=False, row_section=False), TableCell(bbox=BoundingBox(l=133.1160125732422, t=177.70899963378906, r=166.71701049804688, b=170.91700744628906, coord_origin=<CoordOrigin.BOTTOMLEFT: 'BOTTOMLEFT'>), row_span=1, col_span=1, start_row_offset_idx=3, end_row_offset_idx=4, start_col_offset_idx=1, end_col_offset_idx=2, text='(26.1-36.8)', column_header=False, row_header=False, row_section=False), TableCell(bbox=BoundingBox(l=174.33201599121094, t=177.70899963378906, r=207.93301391601562, b=170.91700744628906, coord_origin=<CoordOrigin.BOTTOMLEFT: 'BOTTOMLEFT'>), row_span=1, col_span=1, start_row_offset_idx=3, end_row_offset_idx=4, start_col_offset_idx=2, end_col_offset_idx=3, text='(13.7-21.3)', column_header=False, row_header=False, row_section=False), TableCell(bbox=BoundingBox(l=213.05401611328125, t=177.70899963378906, r=246.6540069580078, b=170.91700744628906, coord_origin=<CoordOrigin.BOTTOMLEFT: 'BOTTOMLEFT'>), row_span=1, col_span=1, start_row_offset_idx=3, end_row_offset_idx=4, start_col_offset_idx=3, end_col_offset_idx=4, text='(26.1-44.5)', column_header=False, row_header=False, row_section=False), TableCell(bbox=BoundingBox(l=252.11502075195312, t=177.70899963378906, r=281.1460266113281, b=170.91700744628906, coord_origin=<CoordOrigin.BOTTOMLEFT: 'BOTTOMLEFT'>), row_span=1, col_span=1, start_row_offset_idx=3, end_row_offset_idx=4, start_col_offset_idx=4, end_col_offset_idx=5, text='(16.5-NE)', column_header=False, row_header=False, row_section=False), TableCell(bbox=BoundingBox(l=286.6410217285156, t=177.70899963378906, r=320.24200439453125, b=170.91700744628906, coord_origin=<CoordOrigin.BOTTOMLEFT: 'BOTTOMLEFT'>), row_span=1, col_span=1, start_row_offset_idx=3, end_row_offset_idx=4, start_col_offset_idx=5, end_col_offset_idx=6, text='(23.8-44.5)', column_header=False, row_header=False, row_section=False), TableCell(bbox=BoundingBox(l=325.7030029296875, t=177.70899963378906, r=354.8280334472656, b=170.91700744628906, coord_origin=<CoordOrigin.BOTTOMLEFT: 'BOTTOMLEFT'>), row_span=1, col_span=1, start_row_offset_idx=3, end_row_offset_idx=4, start_col_offset_idx=6, end_col_offset_idx=7, text='(13.7-NE)', column_header=False, row_header=False, row_section=False)], [TableCell(bbox=BoundingBox(l=36.96600341796875, t=170.2259979248047, r=127.74400329589844, b=163.43299865722656, coord_origin=<CoordOrigin.BOTTOMLEFT: 'BOTTOMLEFT'>), row_span=1, col_span=1, start_row_offset_idx=4, end_row_offset_idx=5, start_col_offset_idx=0, end_col_offset_idx=1, text='Stratified HR for OS (95% CI)', column_header=False, row_header=True, row_section=False), TableCell(bbox=BoundingBox(l=145.24900817871094, t=170.2259979248047, r=194.72500610351562, b=163.43299865722656, coord_origin=<CoordOrigin.BOTTOMLEFT: 'BOTTOMLEFT'>), row_span=1, col_span=1, start_row_offset_idx=4, end_row_offset_idx=5, start_col_offset_idx=1, end_col_offset_idx=2, text='0.60 (0.45-0.79)', column_header=False, row_header=False, row_section=False), TableCell(bbox=None, row_span=1, col_span=1, start_row_offset_idx=4, end_row_offset_idx=5, start_col_offset_idx=2, end_col_offset_idx=3, text='', column_header=False, row_header=False, row_section=False), TableCell(bbox=BoundingBox(l=223.32000732421875, t=170.2259979248047, r=272.8310241699219, b=163.43299865722656, coord_origin=<CoordOrigin.BOTTOMLEFT: 'BOTTOMLEFT'>), row_span=1, col_span=1, start_row_offset_idx=4, end_row_offset_idx=5, start_col_offset_idx=3, end_col_offset_idx=4, text='0.86 (0.51-1.47)', column_header=False, row_header=False, row_section=False), TableCell(bbox=None, row_span=1, col_span=1, start_row_offset_idx=4, end_row_offset_idx=5, start_col_offset_idx=4, end_col_offset_idx=5, text='', column_header=False, row_header=False, row_section=False), TableCell(bbox=BoundingBox(l=296.9120178222656, t=170.2259979248047, r=346.4230041503906, b=163.43299865722656, coord_origin=<CoordOrigin.BOTTOMLEFT: 'BOTTOMLEFT'>), row_span=1, col_span=1, start_row_offset_idx=4, end_row_offset_idx=5, start_col_offset_idx=5, end_col_offset_idx=6, text='0.72 (0.39-1.31)', column_header=False, row_header=False, row_section=False), TableCell(bbox=None, row_span=1, col_span=1, start_row_offset_idx=4, end_row_offset_idx=5, start_col_offset_idx=6, end_col_offset_idx=7, text='', column_header=False, row_header=False, row_section=False)], [TableCell(bbox=BoundingBox(l=36.96600341796875, t=162.79901123046875, r=127.69800567626953, b=156.00601196289062, coord_origin=<CoordOrigin.BOTTOMLEFT: 'BOTTOMLEFT'>), row_span=1, col_span=1, start_row_offset_idx=5, end_row_offset_idx=6, start_col_offset_idx=0, end_col_offset_idx=1, text='Median PFS by investigator,*', column_header=False, row_header=True, row_section=False), TableCell(bbox=BoundingBox(l=145.07901000976562, t=162.79901123046875, r=154.73300170898438, b=156.00601196289062, coord_origin=<CoordOrigin.BOTTOMLEFT: 'BOTTOMLEFT'>), row_span=1, col_span=1, start_row_offset_idx=5, end_row_offset_idx=6, start_col_offset_idx=1, end_col_offset_idx=2, text='9.0', column_header=False, row_header=False, row_section=False), TableCell(bbox=BoundingBox(l=186.3520050048828, t=162.79901123046875, r=196.0050048828125, b=156.00601196289062, coord_origin=<CoordOrigin.BOTTOMLEFT: 'BOTTOMLEFT'>), row_span=1, col_span=1, start_row_offset_idx=5, end_row_offset_idx=6, start_col_offset_idx=2, end_col_offset_idx=3, text='3.3', column_header=False, row_header=False, row_section=False), TableCell(bbox=BoundingBox(l=225.01600646972656, t=162.79901123046875, r=234.67001342773438, b=156.00601196289062, coord_origin=<CoordOrigin.BOTTOMLEFT: 'BOTTOMLEFT'>), row_span=1, col_span=1, start_row_offset_idx=5, end_row_offset_idx=6, start_col_offset_idx=3, end_col_offset_idx=4, text='8.7', column_header=False, row_header=False, row_section=False), TableCell(bbox=BoundingBox(l=261.8100280761719, t=162.79901123046875, r=271.4640197753906, b=156.00601196289062, coord_origin=<CoordOrigin.BOTTOMLEFT: 'BOTTOMLEFT'>), row_span=1, col_span=1, start_row_offset_idx=5, end_row_offset_idx=6, start_col_offset_idx=4, end_col_offset_idx=5, text='3.7', column_header=False, row_header=False, row_section=False), TableCell(bbox=BoundingBox(l=298.60400390625, t=162.79901123046875, r=308.2580261230469, b=156.00601196289062, coord_origin=<CoordOrigin.BOTTOMLEFT: 'BOTTOMLEFT'>), row_span=1, col_span=1, start_row_offset_idx=5, end_row_offset_idx=6, start_col_offset_idx=5, end_col_offset_idx=6, text='7.5', column_header=False, row_header=False, row_section=False), TableCell(bbox=BoundingBox(l=335.4540100097656, t=162.79901123046875, r=345.1080322265625, b=156.00601196289062, coord_origin=<CoordOrigin.BOTTOMLEFT: 'BOTTOMLEFT'>), row_span=1, col_span=1, start_row_offset_idx=5, end_row_offset_idx=6, start_col_offset_idx=6, end_col_offset_idx=7, text='3.7', column_header=False, row_header=False, row_section=False)], [TableCell(bbox=BoundingBox(l=43.939002990722656, t=155.31500244140625, r=82.72600555419922, b=148.52301025390625, coord_origin=<CoordOrigin.BOTTOMLEFT: 'BOTTOMLEFT'>), row_span=1, col_span=1, start_row_offset_idx=6, end_row_offset_idx=7, start_col_offset_idx=0, end_col_offset_idx=1, text='mo (95% CI)', column_header=False, row_header=True, row_section=False), TableCell(bbox=BoundingBox(l=135.04501342773438, t=155.31500244140625, r=164.81700134277344, b=148.52301025390625, coord_origin=<CoordOrigin.BOTTOMLEFT: 'BOTTOMLEFT'>), row_span=1, col_span=1, start_row_offset_idx=6, end_row_offset_idx=7, start_col_offset_idx=1, end_col_offset_idx=2, text='(5.7-12.6)', column_header=False, row_header=False, row_section=False), TableCell(bbox=BoundingBox(l=178.24501037597656, t=155.31500244140625, r=204.0760040283203, b=148.52301025390625, coord_origin=<CoordOrigin.BOTTOMLEFT: 'BOTTOMLEFT'>), row_span=1, col_span=1, start_row_offset_idx=6, end_row_offset_idx=7, start_col_offset_idx=2, end_col_offset_idx=3, text='(2.0-3.7)', column_header=False, row_header=False, row_section=False), TableCell(bbox=BoundingBox(l=214.9820098876953, t=155.31500244140625, r=244.75401306152344, b=148.52301025390625, coord_origin=<CoordOrigin.BOTTOMLEFT: 'BOTTOMLEFT'>), row_span=1, col_span=1, start_row_offset_idx=6, end_row_offset_idx=7, start_col_offset_idx=3, end_col_offset_idx=4, text='(5.4-24.7)', column_header=False, row_header=False, row_section=False), TableCell(bbox=BoundingBox(l=253.760009765625, t=155.31500244140625, r=279.52001953125, b=148.52301025390625, coord_origin=<CoordOrigin.BOTTOMLEFT: 'BOTTOMLEFT'>), row_span=1, col_span=1, start_row_offset_idx=6, end_row_offset_idx=7, start_col_offset_idx=4, end_col_offset_idx=5, text='(2.0-6.0)', column_header=False, row_header=False, row_section=False), TableCell(bbox=BoundingBox(l=288.5690002441406, t=155.31500244140625, r=318.3210144042969, b=148.52301025390625, coord_origin=<CoordOrigin.BOTTOMLEFT: 'BOTTOMLEFT'>), row_span=1, col_span=1, start_row_offset_idx=6, end_row_offset_idx=7, start_col_offset_idx=5, end_col_offset_idx=6, text='(4.2-12.0)', column_header=False, row_header=False, row_section=False), TableCell(bbox=BoundingBox(l=327.3470153808594, t=155.31500244140625, r=353.19500732421875, b=148.52301025390625, coord_origin=<CoordOrigin.BOTTOMLEFT: 'BOTTOMLEFT'>), row_span=1, col_span=1, start_row_offset_idx=6, end_row_offset_idx=7, start_col_offset_idx=6, end_col_offset_idx=7, text='(1.9-5.7)', column_header=False, row_header=False, row_section=False)], [TableCell(bbox=BoundingBox(l=36.96600341796875, t=147.83200073242188, r=127.74400329589844, b=141.03900146484375, coord_origin=<CoordOrigin.BOTTOMLEFT: 'BOTTOMLEFT'>), row_span=1, col_span=1, start_row_offset_idx=7, end_row_offset_idx=8, start_col_offset_idx=0, end_col_offset_idx=1, text='Stratified HR for PFS (95% CI)', column_header=False, row_header=True, row_section=False), TableCell(bbox=BoundingBox(l=145.24900817871094, t=147.83200073242188, r=194.72500610351562, b=141.03900146484375, coord_origin=<CoordOrigin.BOTTOMLEFT: 'BOTTOMLEFT'>), row_span=1, col_span=1, start_row_offset_idx=7, end_row_offset_idx=8, start_col_offset_idx=1, end_col_offset_idx=2, text='0.45 (0.35-0.59)', column_header=False, row_header=False, row_section=False), TableCell(bbox=None, row_span=1, col_span=1, start_row_offset_idx=7, end_row_offset_idx=8, start_col_offset_idx=2, end_col_offset_idx=3, text='', column_header=False, row_header=False, row_section=False), TableCell(bbox=BoundingBox(l=223.32000732421875, t=147.83200073242188, r=272.8310241699219, b=141.03900146484375, coord_origin=<CoordOrigin.BOTTOMLEFT: 'BOTTOMLEFT'>), row_span=1, col_span=1, start_row_offset_idx=7, end_row_offset_idx=8, start_col_offset_idx=3, end_col_offset_idx=4, text='0.51 (0.31-0.84)', column_header=False, row_header=False, row_section=False), TableCell(bbox=None, row_span=1, col_span=1, start_row_offset_idx=7, end_row_offset_idx=8, start_col_offset_idx=4, end_col_offset_idx=5, text='', column_header=False, row_header=False, row_section=False), TableCell(bbox=BoundingBox(l=296.9120178222656, t=147.83200073242188, r=346.4230041503906, b=141.03900146484375, coord_origin=<CoordOrigin.BOTTOMLEFT: 'BOTTOMLEFT'>), row_span=1, col_span=1, start_row_offset_idx=7, end_row_offset_idx=8, start_col_offset_idx=5, end_col_offset_idx=6, text='0.44 (0.24-0.79)', column_header=False, row_header=False, row_section=False), TableCell(bbox=None, row_span=1, col_span=1, start_row_offset_idx=7, end_row_offset_idx=8, start_col_offset_idx=6, end_col_offset_idx=7, text='', column_header=False, row_header=False, row_section=False)], [TableCell(bbox=BoundingBox(l=36.96600341796875, t=141.69300842285156, r=80.2760009765625, b=133.55599975585938, coord_origin=<CoordOrigin.BOTTOMLEFT: 'BOTTOMLEFT'>), row_span=1, col_span=1, start_row_offset_idx=8, end_row_offset_idx=9, start_col_offset_idx=0, end_col_offset_idx=1, text='TRAEs, n (%) †', column_header=False, row_header=True, row_section=False), TableCell(bbox=None, row_span=1, col_span=1, start_row_offset_idx=8, end_row_offset_idx=9, start_col_offset_idx=1, end_col_offset_idx=2, text='', column_header=False, row_header=False, row_section=False), TableCell(bbox=None, row_span=1, col_span=1, start_row_offset_idx=8, end_row_offset_idx=9, start_col_offset_idx=2, end_col_offset_idx=3, text='', column_header=False, row_header=False, row_section=False), TableCell(bbox=None, row_span=1, col_span=1, start_row_offset_idx=8, end_row_offset_idx=9, start_col_offset_idx=3, end_col_offset_idx=4, text='', column_header=False, row_header=False, row_section=False), TableCell(bbox=None, row_span=1, col_span=1, start_row_offset_idx=8, end_row_offset_idx=9, start_col_offset_idx=4, end_col_offset_idx=5, text='', column_header=False, row_header=False, row_section=False), TableCell(bbox=None, row_span=1, col_span=1, start_row_offset_idx=8, end_row_offset_idx=9, start_col_offset_idx=5, end_col_offset_idx=6, text='', column_header=False, row_header=False, row_section=False), TableCell(bbox=None, row_span=1, col_span=1, start_row_offset_idx=8, end_row_offset_idx=9, start_col_offset_idx=6, end_col_offset_idx=7, text='', column_header=False, row_header=False, row_section=False)], [TableCell(bbox=BoundingBox(l=43.93700408935547, t=132.86599731445312, r=75.67400360107422, b=126.07400512695312, coord_origin=<CoordOrigin.BOTTOMLEFT: 'BOTTOMLEFT'>), row_span=1, col_span=1, start_row_offset_idx=9, end_row_offset_idx=10, start_col_offset_idx=0, end_col_offset_idx=1, text='Any grade', column_header=False, row_header=True, row_section=False), TableCell(bbox=BoundingBox(l=133.8520050048828, t=132.86599731445312, r=165.99900817871094, b=126.07400512695312, coord_origin=<CoordOrigin.BOTTOMLEFT: 'BOTTOMLEFT'>), row_span=1, col_span=1, start_row_offset_idx=9, end_row_offset_idx=10, start_col_offset_idx=1, end_col_offset_idx=2, text='122 (77.2)', column_header=False, row_header=False, row_section=False), TableCell(bbox=BoundingBox(l=180.96400451660156, t=132.86599731445312, r=201.3660125732422, b=126.07400512695312, coord_origin=<CoordOrigin.BOTTOMLEFT: 'BOTTOMLEFT'>), row_span=1, col_span=1, start_row_offset_idx=9, end_row_offset_idx=10, start_col_offset_idx=2, end_col_offset_idx=3, text='2 (1.3)', column_header=False, row_header=False, row_section=False), TableCell(bbox=BoundingBox(l=215.71701049804688, t=132.86599731445312, r=243.95201110839844, b=126.07400512695312, coord_origin=<CoordOrigin.BOTTOMLEFT: 'BOTTOMLEFT'>), row_span=1, col_span=1, start_row_offset_idx=9, end_row_offset_idx=10, start_col_offset_idx=3, end_col_offset_idx=4, text='44 (88.0)', column_header=False, row_header=False, row_section=False), TableCell(bbox=BoundingBox(l=264.70001220703125, t=132.86599731445312, r=268.6190185546875, b=126.07400512695312, coord_origin=<CoordOrigin.BOTTOMLEFT: 'BOTTOMLEFT'>), row_span=1, col_span=1, start_row_offset_idx=9, end_row_offset_idx=10, start_col_offset_idx=4, end_col_offset_idx=5, text='0', column_header=False, row_header=False, row_section=False), TableCell(bbox=BoundingBox(l=289.3050231933594, t=132.86599731445312, r=317.5390319824219, b=126.07400512695312, coord_origin=<CoordOrigin.BOTTOMLEFT: 'BOTTOMLEFT'>), row_span=1, col_span=1, start_row_offset_idx=9, end_row_offset_idx=10, start_col_offset_idx=5, end_col_offset_idx=6, text='36 (87.8)', column_header=False, row_header=False, row_section=False), TableCell(bbox=BoundingBox(l=338.2870178222656, t=132.86599731445312, r=342.2060241699219, b=126.07400512695312, coord_origin=<CoordOrigin.BOTTOMLEFT: 'BOTTOMLEFT'>), row_span=1, col_span=1, start_row_offset_idx=9, end_row_offset_idx=10, start_col_offset_idx=6, end_col_offset_idx=7, text='0', column_header=False, row_header=False, row_section=False)], [TableCell(bbox=BoundingBox(l=43.93700408935547, t=127.02900695800781, r=72.70100402832031, b=118.2490005493164, coord_origin=<CoordOrigin.BOTTOMLEFT: 'BOTTOMLEFT'>), row_span=1, col_span=1, start_row_offset_idx=10, end_row_offset_idx=11, start_col_offset_idx=0, end_col_offset_idx=1, text='Grade ‡ 3', column_header=False, row_header=True, row_section=False), TableCell(bbox=BoundingBox(l=135.78001403808594, t=125.43900299072266, r=164.0150146484375, b=118.64600372314453, coord_origin=<CoordOrigin.BOTTOMLEFT: 'BOTTOMLEFT'>), row_span=1, col_span=1, start_row_offset_idx=10, end_row_offset_idx=11, start_col_offset_idx=1, end_col_offset_idx=2, text='30 (19.0)', column_header=False, row_header=False, row_section=False), TableCell(bbox=BoundingBox(l=189.1850128173828, t=125.43900299072266, r=193.10400390625, b=118.64600372314453, coord_origin=<CoordOrigin.BOTTOMLEFT: 'BOTTOMLEFT'>), row_span=1, col_span=1, start_row_offset_idx=10, end_row_offset_idx=11, start_col_offset_idx=2, end_col_offset_idx=3, text='0', column_header=False, row_header=False, row_section=False), TableCell(bbox=BoundingBox(l=217.7010040283203, t=125.43900299072266, r=242.02301025390625, b=118.64600372314453, coord_origin=<CoordOrigin.BOTTOMLEFT: 'BOTTOMLEFT'>), row_span=1, col_span=1, start_row_offset_idx=10, end_row_offset_idx=11, start_col_offset_idx=3, end_col_offset_idx=4, text='8 (16.0)', column_header=False, row_header=False, row_section=False), TableCell(bbox=BoundingBox(l=264.70001220703125, t=125.43900299072266, r=268.6190185546875, b=118.64600372314453, coord_origin=<CoordOrigin.BOTTOMLEFT: 'BOTTOMLEFT'>), row_span=1, col_span=1, start_row_offset_idx=10, end_row_offset_idx=11, start_col_offset_idx=4, end_col_offset_idx=5, text='0', column_header=False, row_header=False, row_section=False), TableCell(bbox=BoundingBox(l=291.28900146484375, t=125.43900299072266, r=315.6100158691406, b=118.64600372314453, coord_origin=<CoordOrigin.BOTTOMLEFT: 'BOTTOMLEFT'>), row_span=1, col_span=1, start_row_offset_idx=10, end_row_offset_idx=11, start_col_offset_idx=5, end_col_offset_idx=6, text='6 (14.6)', column_header=False, row_header=False, row_section=False), TableCell(bbox=BoundingBox(l=338.2870178222656, t=125.43900299072266, r=342.2060241699219, b=118.64600372314453, coord_origin=<CoordOrigin.BOTTOMLEFT: 'BOTTOMLEFT'>), row_span=1, col_span=1, start_row_offset_idx=10, end_row_offset_idx=11, start_col_offset_idx=6, end_col_offset_idx=7, text='0', column_header=False, row_header=False, row_section=False)]]))]"
            ]
          },
          "metadata": {},
          "execution_count": 6
        }
      ]
    },
    {
      "cell_type": "code",
      "source": [
        "!pip install pandas"
      ],
      "metadata": {
        "colab": {
          "base_uri": "https://localhost:8080/"
        },
        "id": "J3E6E7PzeDKj",
        "outputId": "588d58c2-da1d-4ee2-c7c2-a5e3a84d53f3"
      },
      "execution_count": 7,
      "outputs": [
        {
          "output_type": "stream",
          "name": "stdout",
          "text": [
            "Requirement already satisfied: pandas in /usr/local/lib/python3.10/dist-packages (2.2.2)\n",
            "Requirement already satisfied: numpy>=1.22.4 in /usr/local/lib/python3.10/dist-packages (from pandas) (1.26.4)\n",
            "Requirement already satisfied: python-dateutil>=2.8.2 in /usr/local/lib/python3.10/dist-packages (from pandas) (2.8.2)\n",
            "Requirement already satisfied: pytz>=2020.1 in /usr/local/lib/python3.10/dist-packages (from pandas) (2024.2)\n",
            "Requirement already satisfied: tzdata>=2022.7 in /usr/local/lib/python3.10/dist-packages (from pandas) (2024.2)\n",
            "Requirement already satisfied: six>=1.5 in /usr/local/lib/python3.10/dist-packages (from python-dateutil>=2.8.2->pandas) (1.16.0)\n"
          ]
        }
      ]
    },
    {
      "cell_type": "code",
      "source": [
        "import pandas as pd\n",
        "doc_filename = result.input.file.stem\n",
        "for table_ix, table in enumerate(result.document.tables):\n",
        "        table_df: pd.DataFrame = table.export_to_dataframe()\n",
        "        print(f\"## Table {table_ix}\")\n",
        "        print(table_df.to_markdown())\n",
        "\n",
        "        # Save the table as csv\n",
        "        element_csv_filename =  f\"{doc_filename}-table-{table_ix+1}.csv\"\n",
        "        table_df.to_csv(element_csv_filename)\n",
        "\n",
        ""
      ],
      "metadata": {
        "colab": {
          "base_uri": "https://localhost:8080/"
        },
        "id": "CK4OgSOheIj2",
        "outputId": "f093cf2b-6b61-4444-8c7e-1da52d2ba007"
      },
      "execution_count": 9,
      "outputs": [
        {
          "output_type": "stream",
          "name": "stdout",
          "text": [
            "## Table 0\n",
            "|    |                                | Nonvisceral Metastases.Avelumab + BSC (n=159)   | Nonvisceral Metastases.BSC (n=159)   | Avelumab + BSC(n=51)   | BSC (n=51)   | Pelvic/Retroperitoneal LN-Only Disease.Avelumab + BSC(n=42)   | Pelvic/Retroperitoneal LN-Only Disease.BSC (n=35)   |\n",
            "|---:|:-------------------------------|:------------------------------------------------|:-------------------------------------|:-----------------------|:-------------|:--------------------------------------------------------------|:----------------------------------------------------|\n",
            "|  0 | Median OS,* mo (95% CI)        | 31.4                                            | 17.1                                 | 31.9                   | 22.7         | 31.2                                                          | 20.2                                                |\n",
            "|  1 |                                | (26.1-36.8)                                     | (13.7-21.3)                          | (26.1-44.5)            | (16.5-NE)    | (23.8-44.5)                                                   | (13.7-NE)                                           |\n",
            "|  2 | Stratified HR for OS (95% CI)  | 0.60 (0.45-0.79)                                |                                      | 0.86 (0.51-1.47)       |              | 0.72 (0.39-1.31)                                              |                                                     |\n",
            "|  3 | Median PFS by investigator,*   | 9.0                                             | 3.3                                  | 8.7                    | 3.7          | 7.5                                                           | 3.7                                                 |\n",
            "|  4 | mo (95% CI)                    | (5.7-12.6)                                      | (2.0-3.7)                            | (5.4-24.7)             | (2.0-6.0)    | (4.2-12.0)                                                    | (1.9-5.7)                                           |\n",
            "|  5 | Stratified HR for PFS (95% CI) | 0.45 (0.35-0.59)                                |                                      | 0.51 (0.31-0.84)       |              | 0.44 (0.24-0.79)                                              |                                                     |\n",
            "|  6 | TRAEs, n (%) †                 |                                                 |                                      |                        |              |                                                               |                                                     |\n",
            "|  7 | Any grade                      | 122 (77.2)                                      | 2 (1.3)                              | 44 (88.0)              | 0            | 36 (87.8)                                                     | 0                                                   |\n",
            "|  8 | Grade ‡ 3                      | 30 (19.0)                                       | 0                                    | 8 (16.0)               | 0            | 6 (14.6)                                                      | 0                                                   |\n"
          ]
        }
      ]
    },
    {
      "cell_type": "markdown",
      "source": [
        "docling has produced best result for table strucutured"
      ],
      "metadata": {
        "id": "1GKPbZrGelbz"
      }
    },
    {
      "cell_type": "code",
      "source": [],
      "metadata": {
        "id": "Ooq9T6jieqeo"
      },
      "execution_count": null,
      "outputs": []
    }
  ]
}